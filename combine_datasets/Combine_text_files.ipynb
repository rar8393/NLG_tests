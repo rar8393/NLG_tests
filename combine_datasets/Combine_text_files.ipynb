{
 "cells": [
  {
   "cell_type": "code",
   "execution_count": 7,
   "id": "051ec289-ec14-4414-bb7e-ac27a1c582f5",
   "metadata": {},
   "outputs": [],
   "source": [
    "import glob"
   ]
  },
  {
   "cell_type": "code",
   "execution_count": 8,
   "id": "fae34366-f65a-4e7c-aa68-e9723e474b41",
   "metadata": {},
   "outputs": [],
   "source": [
    "read_train_files = glob.glob(\"*train.txt\")"
   ]
  },
  {
   "cell_type": "code",
   "execution_count": 9,
   "id": "d902678c-3bd0-4a8e-82b5-c30e4e9eb955",
   "metadata": {},
   "outputs": [],
   "source": [
    "with open(\"train_health_legal.txt\", \"wb\") as outfile:\n",
    "    for f in read_train_files:\n",
    "        with open(f, \"rb\") as infile:\n",
    "            outfile.write(infile.read())"
   ]
  },
  {
   "cell_type": "code",
   "execution_count": 10,
   "id": "3a1d1c13-5262-4c92-aa11-60aa0ab30681",
   "metadata": {},
   "outputs": [],
   "source": [
    "read_val_files = glob.glob(\"*val.txt\")"
   ]
  },
  {
   "cell_type": "code",
   "execution_count": 11,
   "id": "be3bdda0-b252-4866-8044-b0297185dae6",
   "metadata": {},
   "outputs": [],
   "source": [
    "with open(\"val_health_legal.txt\", \"wb\") as outfile:\n",
    "    for f in read_val_files:\n",
    "        with open(f, \"rb\") as infile:\n",
    "            outfile.write(infile.read())"
   ]
  },
  {
   "cell_type": "code",
   "execution_count": null,
   "id": "e1638a3d-7873-4c93-aa12-e610832e7bef",
   "metadata": {},
   "outputs": [],
   "source": []
  }
 ],
 "metadata": {
  "kernelspec": {
   "display_name": "Python 3 (ipykernel)",
   "language": "python",
   "name": "python3"
  },
  "language_info": {
   "codemirror_mode": {
    "name": "ipython",
    "version": 3
   },
   "file_extension": ".py",
   "mimetype": "text/x-python",
   "name": "python",
   "nbconvert_exporter": "python",
   "pygments_lexer": "ipython3",
   "version": "3.10.4"
  }
 },
 "nbformat": 4,
 "nbformat_minor": 5
}
