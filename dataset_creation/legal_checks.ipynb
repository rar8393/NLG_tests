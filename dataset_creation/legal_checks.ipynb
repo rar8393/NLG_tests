{
 "cells": [
  {
   "cell_type": "code",
   "execution_count": 1,
   "id": "ecca848a-668a-44a8-8915-01f0c8bbe5db",
   "metadata": {},
   "outputs": [],
   "source": [
    "import pandas as pd\n",
    "import spacy\n",
    "from spacy import displacy\n",
    "import re"
   ]
  },
  {
   "cell_type": "code",
   "execution_count": 2,
   "id": "be1b9c02-e40a-4304-ba46-db00fe47f2b8",
   "metadata": {},
   "outputs": [],
   "source": [
    "df = pd.read_csv('legal_text_classification.csv')"
   ]
  },
  {
   "cell_type": "code",
   "execution_count": 3,
   "id": "4583d097-bcc2-46fb-abdd-10b76ee61314",
   "metadata": {},
   "outputs": [
    {
     "data": {
      "text/html": [
       "<div>\n",
       "<style scoped>\n",
       "    .dataframe tbody tr th:only-of-type {\n",
       "        vertical-align: middle;\n",
       "    }\n",
       "\n",
       "    .dataframe tbody tr th {\n",
       "        vertical-align: top;\n",
       "    }\n",
       "\n",
       "    .dataframe thead th {\n",
       "        text-align: right;\n",
       "    }\n",
       "</style>\n",
       "<table border=\"1\" class=\"dataframe\">\n",
       "  <thead>\n",
       "    <tr style=\"text-align: right;\">\n",
       "      <th></th>\n",
       "      <th>case_id</th>\n",
       "      <th>case_outcome</th>\n",
       "      <th>case_title</th>\n",
       "      <th>case_text</th>\n",
       "    </tr>\n",
       "  </thead>\n",
       "  <tbody>\n",
       "    <tr>\n",
       "      <th>0</th>\n",
       "      <td>Case1</td>\n",
       "      <td>cited</td>\n",
       "      <td>Alpine Hardwood (Aust) Pty Ltd v Hardys Pty Lt...</td>\n",
       "      <td>Ordinarily that discretion will be exercised s...</td>\n",
       "    </tr>\n",
       "    <tr>\n",
       "      <th>1</th>\n",
       "      <td>Case2</td>\n",
       "      <td>cited</td>\n",
       "      <td>Black v Lipovac [1998] FCA 699 ; (1998) 217 AL...</td>\n",
       "      <td>The general principles governing the exercise ...</td>\n",
       "    </tr>\n",
       "    <tr>\n",
       "      <th>2</th>\n",
       "      <td>Case3</td>\n",
       "      <td>cited</td>\n",
       "      <td>Colgate Palmolive Co v Cussons Pty Ltd (1993) ...</td>\n",
       "      <td>Ordinarily that discretion will be exercised s...</td>\n",
       "    </tr>\n",
       "    <tr>\n",
       "      <th>3</th>\n",
       "      <td>Case4</td>\n",
       "      <td>cited</td>\n",
       "      <td>Dais Studio Pty Ltd v Bullett Creative Pty Ltd...</td>\n",
       "      <td>The general principles governing the exercise ...</td>\n",
       "    </tr>\n",
       "    <tr>\n",
       "      <th>4</th>\n",
       "      <td>Case5</td>\n",
       "      <td>cited</td>\n",
       "      <td>Dr Martens Australia Pty Ltd v Figgins Holding...</td>\n",
       "      <td>The preceding general principles inform the ex...</td>\n",
       "    </tr>\n",
       "  </tbody>\n",
       "</table>\n",
       "</div>"
      ],
      "text/plain": [
       "  case_id case_outcome                                         case_title  \\\n",
       "0   Case1        cited  Alpine Hardwood (Aust) Pty Ltd v Hardys Pty Lt...   \n",
       "1   Case2        cited  Black v Lipovac [1998] FCA 699 ; (1998) 217 AL...   \n",
       "2   Case3        cited  Colgate Palmolive Co v Cussons Pty Ltd (1993) ...   \n",
       "3   Case4        cited  Dais Studio Pty Ltd v Bullett Creative Pty Ltd...   \n",
       "4   Case5        cited  Dr Martens Australia Pty Ltd v Figgins Holding...   \n",
       "\n",
       "                                           case_text  \n",
       "0  Ordinarily that discretion will be exercised s...  \n",
       "1  The general principles governing the exercise ...  \n",
       "2  Ordinarily that discretion will be exercised s...  \n",
       "3  The general principles governing the exercise ...  \n",
       "4  The preceding general principles inform the ex...  "
      ]
     },
     "execution_count": 3,
     "metadata": {},
     "output_type": "execute_result"
    }
   ],
   "source": [
    "df.head()"
   ]
  },
  {
   "cell_type": "code",
   "execution_count": 4,
   "id": "25c6a9a2-3b51-4e84-94ab-723e9e2ce61b",
   "metadata": {},
   "outputs": [],
   "source": [
    "df = df[~df.case_text.isna()]"
   ]
  },
  {
   "cell_type": "code",
   "execution_count": 5,
   "id": "35126b4e-0e7b-494b-9824-e08338fd164e",
   "metadata": {},
   "outputs": [
    {
     "data": {
      "text/plain": [
       "'Alpine Hardwood (Aust) Pty Ltd v Hardys Pty Ltd (No 2) [2002] FCA 224 ; (2002) 190 ALR 121'"
      ]
     },
     "execution_count": 5,
     "metadata": {},
     "output_type": "execute_result"
    }
   ],
   "source": [
    "df.case_title[0]"
   ]
  },
  {
   "cell_type": "code",
   "execution_count": 6,
   "id": "5aec970d-4210-41b3-8a17-84d82dbc5a3b",
   "metadata": {},
   "outputs": [
    {
     "data": {
      "text/plain": [
       "'Ordinarily that discretion will be exercised so that costs follow the event and are awarded on a party and party basis. A departure from normal practice to award indemnity costs requires some special or unusual feature in the case: Alpine Hardwood (Aust) Pty Ltd v Hardys Pty Ltd (No 2) [2002] FCA 224 ; (2002) 190 ALR 121 at [11] (Weinberg J) citing Colgate Palmolive Co v Cussons Pty Ltd (1993) 46 FCR 225 at 233 (Sheppard J).'"
      ]
     },
     "execution_count": 6,
     "metadata": {},
     "output_type": "execute_result"
    }
   ],
   "source": [
    "df.case_text[0]"
   ]
  },
  {
   "cell_type": "code",
   "execution_count": 7,
   "id": "b4a4f447-3845-450a-829b-a426c4c99992",
   "metadata": {},
   "outputs": [
    {
     "data": {
      "text/plain": [
       "'Black v Lipovac [1998] FCA 699 ; (1998) 217 ALR 386'"
      ]
     },
     "execution_count": 7,
     "metadata": {},
     "output_type": "execute_result"
    }
   ],
   "source": [
    "df.case_title[1]"
   ]
  },
  {
   "cell_type": "code",
   "execution_count": 8,
   "id": "fb631978-49be-46ad-84e4-28c397692d6b",
   "metadata": {},
   "outputs": [
    {
     "data": {
      "text/plain": [
       "'The general principles governing the exercise of the discretion to award indemnity costs after rejection by an unsuccessful party of a so called Calderbank letter were set out in the judgment of the Full Court in Black v Lipovac [1998] FCA 699 ; (1998) 217 ALR 386. In summary those principles are: 1. Mere refusal of a \"Calderbank offer\" does not itself warrant an order for indemnity costs. In this connection it may be noted that Jessup J in Dais Studio Pty Ltd v Bullet Creative Pty Ltd [2008] FCA 42 said that (at [6]): if the rejection of such an offer is to ground a claim for indemnity costs, it must be by reason of some circumstance other than that the offer happened to comply with the Calderbank principle. 2. To obtain an order for indemnity costs the offeror must show that the refusal to accept it was unreasonable. 3. The reasonableness of the conduct of the offeree is to be viewed in the light of the circumstances that existed when the offer was rejected.'"
      ]
     },
     "execution_count": 8,
     "metadata": {},
     "output_type": "execute_result"
    }
   ],
   "source": [
    "df.case_text[1]"
   ]
  },
  {
   "cell_type": "code",
   "execution_count": null,
   "id": "01fc982b-6e9f-41d9-9bac-c4afe901d389",
   "metadata": {},
   "outputs": [],
   "source": []
  },
  {
   "cell_type": "code",
   "execution_count": 10,
   "id": "83c21c54-c7d2-48b0-bf15-c63d6ff83a2e",
   "metadata": {},
   "outputs": [
    {
     "data": {
      "text/plain": [
       "'I accept that the making of a rolled up offer inclusive of costs and interest may detract from the weight to be given to its refusal in the exercise of the discretion. Finn J referred to authorities on the point in GEC Marconi Systems Pty Ltd v BHP Information Technology Pty Ltd [2003] FCA 688 ; (2003) 201 ALR 55 at [34] . His Honour cited single judge decisions to the effect that such offers ought not to be a relevant consideration on the question of costs and would not be considered in the same way as a Calderbank letter. His Honour was invited to depart from that line of first instance authority. However he was not prepared to say it was clearly wrong. Notwithstanding that, in the circumstances of the case he had to decide, his Honour found that: The fact that the offer gave no indication at all of the breakdown ... between the claim, interest and costs blunts significantly the weight to be given the offer. 35 While respecting the general approach to rolled up offers reflected in the cases to which Finn J referred, such approaches cannot be calcified into rules of law which fetter a general discretion. They simply reflect a common sense proposition that generally speaking such an offer is not unreasonably refused. There may, however, be circumstances where a rolled up offer, refused by an applicant who is unsuccessful, may support a claim for indemnity costs.'"
      ]
     },
     "execution_count": 10,
     "metadata": {},
     "output_type": "execute_result"
    }
   ],
   "source": [
    "df.case_text.iloc[5]"
   ]
  },
  {
   "cell_type": "code",
   "execution_count": 6,
   "id": "0d314e49-8a3c-43a0-8db6-22b6fb13b195",
   "metadata": {},
   "outputs": [
    {
     "data": {
      "application/vnd.jupyter.widget-view+json": {
       "model_id": "99b66f5832324955b6f4c526868d0c5b",
       "version_major": 2,
       "version_minor": 0
      },
      "text/plain": [
       "Downloading:   0%|          | 0.00/59.0 [00:00<?, ?B/s]"
      ]
     },
     "metadata": {},
     "output_type": "display_data"
    },
    {
     "data": {
      "application/vnd.jupyter.widget-view+json": {
       "model_id": "ac703dc70efe42ae921e12f818e9b586",
       "version_major": 2,
       "version_minor": 0
      },
      "text/plain": [
       "Downloading:   0%|          | 0.00/829 [00:00<?, ?B/s]"
      ]
     },
     "metadata": {},
     "output_type": "display_data"
    },
    {
     "data": {
      "application/vnd.jupyter.widget-view+json": {
       "model_id": "0924bdb4cb364c30919fa31fae00cb79",
       "version_major": 2,
       "version_minor": 0
      },
      "text/plain": [
       "Downloading:   0%|          | 0.00/213k [00:00<?, ?B/s]"
      ]
     },
     "metadata": {},
     "output_type": "display_data"
    },
    {
     "data": {
      "application/vnd.jupyter.widget-view+json": {
       "model_id": "56acf11cde9746d19ab23b786a47555c",
       "version_major": 2,
       "version_minor": 0
      },
      "text/plain": [
       "Downloading:   0%|          | 0.00/2.00 [00:00<?, ?B/s]"
      ]
     },
     "metadata": {},
     "output_type": "display_data"
    },
    {
     "data": {
      "application/vnd.jupyter.widget-view+json": {
       "model_id": "c58207fae9b5471fa1491880a99db64c",
       "version_major": 2,
       "version_minor": 0
      },
      "text/plain": [
       "Downloading:   0%|          | 0.00/112 [00:00<?, ?B/s]"
      ]
     },
     "metadata": {},
     "output_type": "display_data"
    },
    {
     "data": {
      "application/vnd.jupyter.widget-view+json": {
       "model_id": "9c6f4c7ceba04ad690c7f0699903d934",
       "version_major": 2,
       "version_minor": 0
      },
      "text/plain": [
       "Downloading:   0%|          | 0.00/433M [00:00<?, ?B/s]"
      ]
     },
     "metadata": {},
     "output_type": "display_data"
    }
   ],
   "source": [
    "from transformers import AutoTokenizer, AutoModelForTokenClassification\n",
    "from transformers import pipeline\n",
    "\n",
    "tokenizer = AutoTokenizer.from_pretrained(\"dslim/bert-base-NER\")\n",
    "model = AutoModelForTokenClassification.from_pretrained(\"dslim/bert-base-NER\")"
   ]
  },
  {
   "cell_type": "code",
   "execution_count": 15,
   "id": "bc5aa4c6-c360-4844-a501-36162d6891a7",
   "metadata": {},
   "outputs": [],
   "source": [
    "nlp = pipeline(\"ner\", model=model, tokenizer=tokenizer)"
   ]
  },
  {
   "cell_type": "code",
   "execution_count": 12,
   "id": "cbe0ebaa-c8b6-45e2-974c-140e3c8bff84",
   "metadata": {
    "tags": []
   },
   "outputs": [
    {
     "ename": "NameError",
     "evalue": "name 'nlp' is not defined",
     "output_type": "error",
     "traceback": [
      "\u001b[0;31m---------------------------------------------------------------------------\u001b[0m",
      "\u001b[0;31mNameError\u001b[0m                                 Traceback (most recent call last)",
      "\u001b[0;32m<ipython-input-12-318e056e54c1>\u001b[0m in \u001b[0;36m<module>\u001b[0;34m\u001b[0m\n\u001b[1;32m      1\u001b[0m \u001b[0mexample\u001b[0m \u001b[0;34m=\u001b[0m \u001b[0mdf\u001b[0m\u001b[0;34m.\u001b[0m\u001b[0mcase_text\u001b[0m\u001b[0;34m.\u001b[0m\u001b[0miloc\u001b[0m\u001b[0;34m[\u001b[0m\u001b[0;36m1\u001b[0m\u001b[0;34m]\u001b[0m\u001b[0;34m\u001b[0m\u001b[0;34m\u001b[0m\u001b[0m\n\u001b[1;32m      2\u001b[0m \u001b[0;34m\u001b[0m\u001b[0m\n\u001b[0;32m----> 3\u001b[0;31m \u001b[0mner_results\u001b[0m \u001b[0;34m=\u001b[0m \u001b[0mnlp\u001b[0m\u001b[0;34m(\u001b[0m\u001b[0mexample\u001b[0m\u001b[0;34m)\u001b[0m\u001b[0;34m\u001b[0m\u001b[0;34m\u001b[0m\u001b[0m\n\u001b[0m\u001b[1;32m      4\u001b[0m \u001b[0mprint\u001b[0m\u001b[0;34m(\u001b[0m\u001b[0mner_results\u001b[0m\u001b[0;34m)\u001b[0m\u001b[0;34m\u001b[0m\u001b[0;34m\u001b[0m\u001b[0m\n",
      "\u001b[0;31mNameError\u001b[0m: name 'nlp' is not defined"
     ]
    }
   ],
   "source": [
    "example = df.case_text.iloc[1]\n",
    "\n",
    "ner_results = nlp(example)\n",
    "print(ner_results)"
   ]
  },
  {
   "cell_type": "code",
   "execution_count": 11,
   "id": "bdcb17a2-486f-4227-9659-10ce2e40fc16",
   "metadata": {
    "collapsed": true,
    "jupyter": {
     "outputs_hidden": true
    },
    "tags": []
   },
   "outputs": [
    {
     "name": "stdout",
     "output_type": "stream",
     "text": [
      "Calder\n",
      "##bank\n",
      "Full\n",
      "Court\n",
      "Black\n",
      "Li\n",
      "##po\n",
      "##va\n",
      "##c\n",
      "FC\n",
      "##A\n",
      "Calder\n",
      "##bank\n",
      "Jess\n",
      "##up\n",
      "J\n",
      "Dai\n",
      "##s\n",
      "Studio\n",
      "P\n",
      "##ty\n",
      "Ltd\n",
      "Bull\n",
      "##et\n",
      "Creative\n",
      "P\n",
      "##ty\n",
      "Ltd\n",
      "FC\n",
      "##A\n",
      "Calder\n",
      "##bank\n"
     ]
    }
   ],
   "source": [
    "for word in ner_results:\n",
    "    print(word['word'])"
   ]
  },
  {
   "cell_type": "code",
   "execution_count": 11,
   "id": "4a9a5b91-f258-4f26-834c-c126eab756f4",
   "metadata": {},
   "outputs": [
    {
     "ename": "NameError",
     "evalue": "name 'example' is not defined",
     "output_type": "error",
     "traceback": [
      "\u001b[0;31m---------------------------------------------------------------------------\u001b[0m",
      "\u001b[0;31mNameError\u001b[0m                                 Traceback (most recent call last)",
      "\u001b[0;32m<ipython-input-11-98b8246bb154>\u001b[0m in \u001b[0;36m<module>\u001b[0;34m\u001b[0m\n\u001b[1;32m      1\u001b[0m \u001b[0mspacy_nlp\u001b[0m \u001b[0;34m=\u001b[0m \u001b[0mspacy\u001b[0m\u001b[0;34m.\u001b[0m\u001b[0mload\u001b[0m\u001b[0;34m(\u001b[0m\u001b[0;34m\"en_core_web_sm\"\u001b[0m\u001b[0;34m)\u001b[0m\u001b[0;34m\u001b[0m\u001b[0;34m\u001b[0m\u001b[0m\n\u001b[0;32m----> 2\u001b[0;31m \u001b[0mdoc\u001b[0m \u001b[0;34m=\u001b[0m \u001b[0mspacy_nlp\u001b[0m\u001b[0;34m(\u001b[0m\u001b[0mexample\u001b[0m\u001b[0;34m)\u001b[0m\u001b[0;34m\u001b[0m\u001b[0;34m\u001b[0m\u001b[0m\n\u001b[0m\u001b[1;32m      3\u001b[0m \u001b[0mdisplacy\u001b[0m\u001b[0;34m.\u001b[0m\u001b[0mserve\u001b[0m\u001b[0;34m(\u001b[0m\u001b[0mdoc\u001b[0m\u001b[0;34m,\u001b[0m \u001b[0mstyle\u001b[0m\u001b[0;34m=\u001b[0m\u001b[0;34m\"ent\"\u001b[0m\u001b[0;34m)\u001b[0m\u001b[0;34m\u001b[0m\u001b[0;34m\u001b[0m\u001b[0m\n",
      "\u001b[0;31mNameError\u001b[0m: name 'example' is not defined"
     ]
    }
   ],
   "source": [
    "spacy_nlp = spacy.load(\"en_core_web_sm\")\n",
    "doc = spacy_nlp(example)\n",
    "displacy.serve(doc, style=\"ent\")"
   ]
  },
  {
   "cell_type": "code",
   "execution_count": 13,
   "id": "ab61d621-894a-411d-949a-286e0e519e1c",
   "metadata": {},
   "outputs": [
    {
     "ename": "NameError",
     "evalue": "name 'nlp' is not defined",
     "output_type": "error",
     "traceback": [
      "\u001b[0;31m---------------------------------------------------------------------------\u001b[0m",
      "\u001b[0;31mNameError\u001b[0m                                 Traceback (most recent call last)",
      "\u001b[0;32m<ipython-input-13-9616aa341b39>\u001b[0m in \u001b[0;36m<module>\u001b[0;34m\u001b[0m\n\u001b[1;32m      1\u001b[0m \u001b[0mexample\u001b[0m \u001b[0;34m=\u001b[0m \u001b[0;34m\"My name is Wolfgang and I live in Berlin\"\u001b[0m\u001b[0;34m\u001b[0m\u001b[0;34m\u001b[0m\u001b[0m\n\u001b[1;32m      2\u001b[0m \u001b[0;34m\u001b[0m\u001b[0m\n\u001b[0;32m----> 3\u001b[0;31m \u001b[0mner_results\u001b[0m \u001b[0;34m=\u001b[0m \u001b[0mnlp\u001b[0m\u001b[0;34m(\u001b[0m\u001b[0mexample\u001b[0m\u001b[0;34m)\u001b[0m\u001b[0;34m\u001b[0m\u001b[0;34m\u001b[0m\u001b[0m\n\u001b[0m\u001b[1;32m      4\u001b[0m \u001b[0mprint\u001b[0m\u001b[0;34m(\u001b[0m\u001b[0mner_results\u001b[0m\u001b[0;34m)\u001b[0m\u001b[0;34m\u001b[0m\u001b[0;34m\u001b[0m\u001b[0m\n",
      "\u001b[0;31mNameError\u001b[0m: name 'nlp' is not defined"
     ]
    }
   ],
   "source": [
    "example = \"My name is Wolfgang and I live in Berlin\"\n",
    "\n",
    "ner_results = nlp(example)\n",
    "print(ner_results)"
   ]
  },
  {
   "cell_type": "code",
   "execution_count": 14,
   "id": "06a76ab0-0ecb-47d1-badf-54e878aac890",
   "metadata": {},
   "outputs": [],
   "source": [
    "new_df = pd.read_csv('legal/justice.csv')"
   ]
  },
  {
   "cell_type": "code",
   "execution_count": 15,
   "id": "2b5c6953-d8a9-48df-9d21-8aecd77ae32d",
   "metadata": {},
   "outputs": [
    {
     "data": {
      "text/plain": [
       "'<p>Miller, after conducting a mass mailing campaign to advertise the sale of \"adult\" material, was convicted of violating a California statute prohibiting the distribution of obscene material. Some unwilling recipients of Miller\\'s brochures complained to the police, initiating the legal proceedings.</p>\\n'"
      ]
     },
     "execution_count": 15,
     "metadata": {},
     "output_type": "execute_result"
    }
   ],
   "source": [
    "new_df.facts[4]"
   ]
  },
  {
   "cell_type": "code",
   "execution_count": 16,
   "id": "75e8c95a-5d2e-489a-ba92-23f0b83680ac",
   "metadata": {},
   "outputs": [
    {
     "data": {
      "text/html": [
       "<div>\n",
       "<style scoped>\n",
       "    .dataframe tbody tr th:only-of-type {\n",
       "        vertical-align: middle;\n",
       "    }\n",
       "\n",
       "    .dataframe tbody tr th {\n",
       "        vertical-align: top;\n",
       "    }\n",
       "\n",
       "    .dataframe thead th {\n",
       "        text-align: right;\n",
       "    }\n",
       "</style>\n",
       "<table border=\"1\" class=\"dataframe\">\n",
       "  <thead>\n",
       "    <tr style=\"text-align: right;\">\n",
       "      <th></th>\n",
       "      <th>Unnamed: 0</th>\n",
       "      <th>ID</th>\n",
       "      <th>name</th>\n",
       "      <th>href</th>\n",
       "      <th>docket</th>\n",
       "      <th>term</th>\n",
       "      <th>first_party</th>\n",
       "      <th>second_party</th>\n",
       "      <th>facts</th>\n",
       "      <th>facts_len</th>\n",
       "      <th>majority_vote</th>\n",
       "      <th>minority_vote</th>\n",
       "      <th>first_party_winner</th>\n",
       "      <th>decision_type</th>\n",
       "      <th>disposition</th>\n",
       "      <th>issue_area</th>\n",
       "    </tr>\n",
       "  </thead>\n",
       "  <tbody>\n",
       "    <tr>\n",
       "      <th>0</th>\n",
       "      <td>0</td>\n",
       "      <td>50606</td>\n",
       "      <td>Roe v. Wade</td>\n",
       "      <td>https://api.oyez.org/cases/1971/70-18</td>\n",
       "      <td>70-18</td>\n",
       "      <td>1971</td>\n",
       "      <td>Jane Roe</td>\n",
       "      <td>Henry Wade</td>\n",
       "      <td>&lt;p&gt;In 1970, Jane Roe (a fictional name used in...</td>\n",
       "      <td>501</td>\n",
       "      <td>7</td>\n",
       "      <td>2</td>\n",
       "      <td>True</td>\n",
       "      <td>majority opinion</td>\n",
       "      <td>reversed</td>\n",
       "      <td>NaN</td>\n",
       "    </tr>\n",
       "    <tr>\n",
       "      <th>1</th>\n",
       "      <td>1</td>\n",
       "      <td>50613</td>\n",
       "      <td>Stanley v. Illinois</td>\n",
       "      <td>https://api.oyez.org/cases/1971/70-5014</td>\n",
       "      <td>70-5014</td>\n",
       "      <td>1971</td>\n",
       "      <td>Peter Stanley, Sr.</td>\n",
       "      <td>Illinois</td>\n",
       "      <td>&lt;p&gt;Joan Stanley had three children with Peter ...</td>\n",
       "      <td>757</td>\n",
       "      <td>5</td>\n",
       "      <td>2</td>\n",
       "      <td>True</td>\n",
       "      <td>majority opinion</td>\n",
       "      <td>reversed/remanded</td>\n",
       "      <td>Civil Rights</td>\n",
       "    </tr>\n",
       "    <tr>\n",
       "      <th>2</th>\n",
       "      <td>2</td>\n",
       "      <td>50623</td>\n",
       "      <td>Giglio v. United States</td>\n",
       "      <td>https://api.oyez.org/cases/1971/70-29</td>\n",
       "      <td>70-29</td>\n",
       "      <td>1971</td>\n",
       "      <td>John Giglio</td>\n",
       "      <td>United States</td>\n",
       "      <td>&lt;p&gt;John Giglio was convicted of passing forged...</td>\n",
       "      <td>495</td>\n",
       "      <td>7</td>\n",
       "      <td>0</td>\n",
       "      <td>True</td>\n",
       "      <td>majority opinion</td>\n",
       "      <td>reversed/remanded</td>\n",
       "      <td>Due Process</td>\n",
       "    </tr>\n",
       "    <tr>\n",
       "      <th>3</th>\n",
       "      <td>3</td>\n",
       "      <td>50632</td>\n",
       "      <td>Reed v. Reed</td>\n",
       "      <td>https://api.oyez.org/cases/1971/70-4</td>\n",
       "      <td>70-4</td>\n",
       "      <td>1971</td>\n",
       "      <td>Sally Reed</td>\n",
       "      <td>Cecil Reed</td>\n",
       "      <td>&lt;p&gt;The Idaho Probate Code specified that \"male...</td>\n",
       "      <td>378</td>\n",
       "      <td>7</td>\n",
       "      <td>0</td>\n",
       "      <td>True</td>\n",
       "      <td>majority opinion</td>\n",
       "      <td>reversed/remanded</td>\n",
       "      <td>Civil Rights</td>\n",
       "    </tr>\n",
       "    <tr>\n",
       "      <th>4</th>\n",
       "      <td>4</td>\n",
       "      <td>50643</td>\n",
       "      <td>Miller v. California</td>\n",
       "      <td>https://api.oyez.org/cases/1971/70-73</td>\n",
       "      <td>70-73</td>\n",
       "      <td>1971</td>\n",
       "      <td>Marvin Miller</td>\n",
       "      <td>California</td>\n",
       "      <td>&lt;p&gt;Miller, after conducting a mass mailing cam...</td>\n",
       "      <td>305</td>\n",
       "      <td>5</td>\n",
       "      <td>4</td>\n",
       "      <td>True</td>\n",
       "      <td>majority opinion</td>\n",
       "      <td>vacated/remanded</td>\n",
       "      <td>First Amendment</td>\n",
       "    </tr>\n",
       "    <tr>\n",
       "      <th>...</th>\n",
       "      <td>...</td>\n",
       "      <td>...</td>\n",
       "      <td>...</td>\n",
       "      <td>...</td>\n",
       "      <td>...</td>\n",
       "      <td>...</td>\n",
       "      <td>...</td>\n",
       "      <td>...</td>\n",
       "      <td>...</td>\n",
       "      <td>...</td>\n",
       "      <td>...</td>\n",
       "      <td>...</td>\n",
       "      <td>...</td>\n",
       "      <td>...</td>\n",
       "      <td>...</td>\n",
       "      <td>...</td>\n",
       "    </tr>\n",
       "    <tr>\n",
       "      <th>3298</th>\n",
       "      <td>3298</td>\n",
       "      <td>63324</td>\n",
       "      <td>United States v. Palomar-Santiago</td>\n",
       "      <td>https://api.oyez.org/cases/2020/20-437</td>\n",
       "      <td>20-437</td>\n",
       "      <td>2020</td>\n",
       "      <td>United States</td>\n",
       "      <td>Refugio Palomar-Santiago</td>\n",
       "      <td>&lt;p&gt;Refugio Palomar-Santiago, a Mexican nationa...</td>\n",
       "      <td>2054</td>\n",
       "      <td>9</td>\n",
       "      <td>0</td>\n",
       "      <td>True</td>\n",
       "      <td>majority opinion</td>\n",
       "      <td>reversed/remanded</td>\n",
       "      <td>Criminal Procedure</td>\n",
       "    </tr>\n",
       "    <tr>\n",
       "      <th>3299</th>\n",
       "      <td>3299</td>\n",
       "      <td>63323</td>\n",
       "      <td>Terry v. United States</td>\n",
       "      <td>https://api.oyez.org/cases/2020/20-5904</td>\n",
       "      <td>20-5904</td>\n",
       "      <td>2020</td>\n",
       "      <td>Tarahrick Terry</td>\n",
       "      <td>United States</td>\n",
       "      <td>&lt;p&gt;Tarahrick Terry pleaded guilty to one count...</td>\n",
       "      <td>1027</td>\n",
       "      <td>9</td>\n",
       "      <td>0</td>\n",
       "      <td>False</td>\n",
       "      <td>majority opinion</td>\n",
       "      <td>affirmed</td>\n",
       "      <td>Criminal Procedure</td>\n",
       "    </tr>\n",
       "    <tr>\n",
       "      <th>3300</th>\n",
       "      <td>3300</td>\n",
       "      <td>63331</td>\n",
       "      <td>United States v. Cooley</td>\n",
       "      <td>https://api.oyez.org/cases/2020/19-1414</td>\n",
       "      <td>19-1414</td>\n",
       "      <td>2020</td>\n",
       "      <td>United States</td>\n",
       "      <td>Joshua James Cooley</td>\n",
       "      <td>&lt;p&gt;Joshua James Cooley was parked in his picku...</td>\n",
       "      <td>1309</td>\n",
       "      <td>9</td>\n",
       "      <td>0</td>\n",
       "      <td>True</td>\n",
       "      <td>majority opinion</td>\n",
       "      <td>vacated/remanded</td>\n",
       "      <td>Civil Rights</td>\n",
       "    </tr>\n",
       "    <tr>\n",
       "      <th>3301</th>\n",
       "      <td>3301</td>\n",
       "      <td>63332</td>\n",
       "      <td>Florida v. Georgia</td>\n",
       "      <td>https://api.oyez.org/cases/2020/142-orig</td>\n",
       "      <td>142-orig</td>\n",
       "      <td>2020</td>\n",
       "      <td>Florida</td>\n",
       "      <td>Georgia</td>\n",
       "      <td>&lt;p&gt;This is an ongoing case of original jurisdi...</td>\n",
       "      <td>297</td>\n",
       "      <td>9</td>\n",
       "      <td>0</td>\n",
       "      <td>False</td>\n",
       "      <td>majority opinion</td>\n",
       "      <td>none</td>\n",
       "      <td>NaN</td>\n",
       "    </tr>\n",
       "    <tr>\n",
       "      <th>3302</th>\n",
       "      <td>3302</td>\n",
       "      <td>63335</td>\n",
       "      <td>PennEast Pipeline Co. v. New Jersey</td>\n",
       "      <td>https://api.oyez.org/cases/2020/19-1039</td>\n",
       "      <td>19-1039</td>\n",
       "      <td>2020</td>\n",
       "      <td>PennEast Pipeline Co. LLC</td>\n",
       "      <td>New Jersey, et al.</td>\n",
       "      <td>&lt;p&gt;The Natural Gas Act (NGA), 15 U.S.C. §§ 717...</td>\n",
       "      <td>1059</td>\n",
       "      <td>5</td>\n",
       "      <td>4</td>\n",
       "      <td>True</td>\n",
       "      <td>majority opinion</td>\n",
       "      <td>reversed/remanded</td>\n",
       "      <td>Due Process</td>\n",
       "    </tr>\n",
       "  </tbody>\n",
       "</table>\n",
       "<p>3303 rows × 16 columns</p>\n",
       "</div>"
      ],
      "text/plain": [
       "      Unnamed: 0     ID                                 name  \\\n",
       "0              0  50606                          Roe v. Wade   \n",
       "1              1  50613                  Stanley v. Illinois   \n",
       "2              2  50623              Giglio v. United States   \n",
       "3              3  50632                         Reed v. Reed   \n",
       "4              4  50643                 Miller v. California   \n",
       "...          ...    ...                                  ...   \n",
       "3298        3298  63324    United States v. Palomar-Santiago   \n",
       "3299        3299  63323               Terry v. United States   \n",
       "3300        3300  63331              United States v. Cooley   \n",
       "3301        3301  63332                   Florida v. Georgia   \n",
       "3302        3302  63335  PennEast Pipeline Co. v. New Jersey   \n",
       "\n",
       "                                          href    docket  term  \\\n",
       "0        https://api.oyez.org/cases/1971/70-18     70-18  1971   \n",
       "1      https://api.oyez.org/cases/1971/70-5014   70-5014  1971   \n",
       "2        https://api.oyez.org/cases/1971/70-29     70-29  1971   \n",
       "3         https://api.oyez.org/cases/1971/70-4      70-4  1971   \n",
       "4        https://api.oyez.org/cases/1971/70-73     70-73  1971   \n",
       "...                                        ...       ...   ...   \n",
       "3298    https://api.oyez.org/cases/2020/20-437    20-437  2020   \n",
       "3299   https://api.oyez.org/cases/2020/20-5904   20-5904  2020   \n",
       "3300   https://api.oyez.org/cases/2020/19-1414   19-1414  2020   \n",
       "3301  https://api.oyez.org/cases/2020/142-orig  142-orig  2020   \n",
       "3302   https://api.oyez.org/cases/2020/19-1039   19-1039  2020   \n",
       "\n",
       "                    first_party              second_party  \\\n",
       "0                      Jane Roe                Henry Wade   \n",
       "1           Peter Stanley, Sr.                   Illinois   \n",
       "2                  John Giglio              United States   \n",
       "3                    Sally Reed                Cecil Reed   \n",
       "4                 Marvin Miller                California   \n",
       "...                         ...                       ...   \n",
       "3298              United States  Refugio Palomar-Santiago   \n",
       "3299            Tarahrick Terry             United States   \n",
       "3300              United States       Joshua James Cooley   \n",
       "3301                    Florida                   Georgia   \n",
       "3302  PennEast Pipeline Co. LLC        New Jersey, et al.   \n",
       "\n",
       "                                                  facts  facts_len  \\\n",
       "0     <p>In 1970, Jane Roe (a fictional name used in...        501   \n",
       "1     <p>Joan Stanley had three children with Peter ...        757   \n",
       "2     <p>John Giglio was convicted of passing forged...        495   \n",
       "3     <p>The Idaho Probate Code specified that \"male...        378   \n",
       "4     <p>Miller, after conducting a mass mailing cam...        305   \n",
       "...                                                 ...        ...   \n",
       "3298  <p>Refugio Palomar-Santiago, a Mexican nationa...       2054   \n",
       "3299  <p>Tarahrick Terry pleaded guilty to one count...       1027   \n",
       "3300  <p>Joshua James Cooley was parked in his picku...       1309   \n",
       "3301  <p>This is an ongoing case of original jurisdi...        297   \n",
       "3302  <p>The Natural Gas Act (NGA), 15 U.S.C. §§ 717...       1059   \n",
       "\n",
       "      majority_vote  minority_vote first_party_winner     decision_type  \\\n",
       "0                 7              2               True  majority opinion   \n",
       "1                 5              2               True  majority opinion   \n",
       "2                 7              0               True  majority opinion   \n",
       "3                 7              0               True  majority opinion   \n",
       "4                 5              4               True  majority opinion   \n",
       "...             ...            ...                ...               ...   \n",
       "3298              9              0               True  majority opinion   \n",
       "3299              9              0              False  majority opinion   \n",
       "3300              9              0               True  majority opinion   \n",
       "3301              9              0              False  majority opinion   \n",
       "3302              5              4               True  majority opinion   \n",
       "\n",
       "            disposition          issue_area  \n",
       "0              reversed                 NaN  \n",
       "1     reversed/remanded        Civil Rights  \n",
       "2     reversed/remanded         Due Process  \n",
       "3     reversed/remanded        Civil Rights  \n",
       "4      vacated/remanded     First Amendment  \n",
       "...                 ...                 ...  \n",
       "3298  reversed/remanded  Criminal Procedure  \n",
       "3299           affirmed  Criminal Procedure  \n",
       "3300   vacated/remanded        Civil Rights  \n",
       "3301               none                 NaN  \n",
       "3302  reversed/remanded         Due Process  \n",
       "\n",
       "[3303 rows x 16 columns]"
      ]
     },
     "execution_count": 16,
     "metadata": {},
     "output_type": "execute_result"
    }
   ],
   "source": [
    "new_df"
   ]
  },
  {
   "cell_type": "code",
   "execution_count": 34,
   "id": "16e2ce84-4dac-4359-af45-0e9b0fe2d0dd",
   "metadata": {},
   "outputs": [],
   "source": [
    "def legal_sc_cleaner(text):\n",
    "    txt = text.replace('<p>', '').replace('</p>','').replace('\\n','')\n",
    "    txt = re.sub('<[^>]+>', '', txt)\n",
    "    txt = re.sub(r'(https|http)?:\\/\\/(\\w|\\.|\\/|\\?|\\=|\\&|\\%)*\\b', '', txt, flags=re.MULTILINE)\n",
    "    return txt"
   ]
  },
  {
   "cell_type": "code",
   "execution_count": 35,
   "id": "a94b3cc9-a20c-4fa0-affd-c9bef2b69ef3",
   "metadata": {},
   "outputs": [],
   "source": [
    "new_df['facts_cleaned'] = new_df.facts.apply(legal_sc_cleaner)"
   ]
  },
  {
   "cell_type": "code",
   "execution_count": 36,
   "id": "f95a33f7-b22e-483b-8a4d-92c2351f07dc",
   "metadata": {},
   "outputs": [
    {
     "data": {
      "text/plain": [
       "Unnamed: 0                                                         3301\n",
       "ID                                                                63332\n",
       "name                                                 Florida v. Georgia\n",
       "href                           https://api.oyez.org/cases/2020/142-orig\n",
       "docket                                                         142-orig\n",
       "term                                                               2020\n",
       "first_party                                                     Florida\n",
       "second_party                                                    Georgia\n",
       "facts                 <p>This is an ongoing case of original jurisdi...\n",
       "facts_len                                                           297\n",
       "majority_vote                                                         9\n",
       "minority_vote                                                         0\n",
       "first_party_winner                                                False\n",
       "decision_type                                          majority opinion\n",
       "disposition                                                        none\n",
       "issue_area                                                          NaN\n",
       "facts_cleaned         This is an ongoing case of original jurisdicti...\n",
       "Name: 3301, dtype: object"
      ]
     },
     "execution_count": 36,
     "metadata": {},
     "output_type": "execute_result"
    }
   ],
   "source": [
    "new_df.loc[3301]"
   ]
  },
  {
   "cell_type": "code",
   "execution_count": 37,
   "id": "5134ac51-3104-4803-a464-c76a144dca9a",
   "metadata": {},
   "outputs": [
    {
     "data": {
      "text/plain": [
       "'This is an ongoing case of original jurisdiction, the facts of which are explained here. In sum, the case involves a water-rights dispute between Georgia and Florida over the waters of the Apalachicola-Chattahoochee-Flint River Basin.'"
      ]
     },
     "execution_count": 37,
     "metadata": {},
     "output_type": "execute_result"
    }
   ],
   "source": [
    "new_df['facts_cleaned'][3301]"
   ]
  },
  {
   "cell_type": "code",
   "execution_count": 39,
   "id": "7a4ff48c-1af5-4781-aca7-726c8bea1454",
   "metadata": {},
   "outputs": [
    {
     "data": {
      "text/plain": [
       "'Joshua James Cooley was parked in his pickup truck on the side of a road within the Crow Reservation in Montana when Officer James Saylor of the Crow Tribe approached his truck in the early hours of the morning. During their exchange, the officer assumed, based on Cooley’s appearance, that Cooley did not belong to a Native American tribe, but he did not ask Cooley or otherwise verify this conclusion. During their conversation, the officer grew suspicious that Cooley was engaged in unlawful activity and detained him to conduct a search of his truck, where he found evidence of methamphetamine. Meanwhile, the officer called for assistance from county officers because Cooley “seemed to be non-Native.”\\xa0Cooley was charged with weapons and drug offenses in violation of federal law. He moved to suppress the evidence on the grounds that Saylor was acting outside the scope of his jurisdiction as a Crow Tribe law enforcement officer when he seized Cooley, in violation of the Indian Civil Rights Act of 1968 (“ICRA”). The district court granted Cooley’s motion, and the U.S. Court of Appeals for the Ninth Circuit affirmed, finding that Saylor, a tribal officer, lacked jurisdiction to detain Cooley, a non-Native person, without first making any attempt to determine whether he was Native.'"
      ]
     },
     "execution_count": 39,
     "metadata": {},
     "output_type": "execute_result"
    }
   ],
   "source": [
    "new_df['facts_cleaned'][3300]"
   ]
  },
  {
   "cell_type": "code",
   "execution_count": 40,
   "id": "47a57789-fb71-46ec-b29c-2b10b98c5756",
   "metadata": {},
   "outputs": [
    {
     "data": {
      "application/vnd.jupyter.widget-view+json": {
       "model_id": "8a341713f526497982662cebf0996f25",
       "version_major": 2,
       "version_minor": 0
      },
      "text/plain": [
       "Downloading:   0%|          | 0.00/1.58k [00:00<?, ?B/s]"
      ]
     },
     "metadata": {},
     "output_type": "display_data"
    },
    {
     "data": {
      "application/vnd.jupyter.widget-view+json": {
       "model_id": "144432945ab54465955d416d9f6fb788",
       "version_major": 2,
       "version_minor": 0
      },
      "text/plain": [
       "Downloading:   0%|          | 0.00/1.63G [00:00<?, ?B/s]"
      ]
     },
     "metadata": {},
     "output_type": "display_data"
    },
    {
     "data": {
      "application/vnd.jupyter.widget-view+json": {
       "model_id": "54247e87a46a4759ba59049f224faf27",
       "version_major": 2,
       "version_minor": 0
      },
      "text/plain": [
       "Downloading:   0%|          | 0.00/899k [00:00<?, ?B/s]"
      ]
     },
     "metadata": {},
     "output_type": "display_data"
    },
    {
     "data": {
      "application/vnd.jupyter.widget-view+json": {
       "model_id": "92647dc7f8324090835a9e1e748a1153",
       "version_major": 2,
       "version_minor": 0
      },
      "text/plain": [
       "Downloading:   0%|          | 0.00/456k [00:00<?, ?B/s]"
      ]
     },
     "metadata": {},
     "output_type": "display_data"
    },
    {
     "data": {
      "application/vnd.jupyter.widget-view+json": {
       "model_id": "c39e66fa3fd74b5eadd87380516a7482",
       "version_major": 2,
       "version_minor": 0
      },
      "text/plain": [
       "Downloading:   0%|          | 0.00/1.36M [00:00<?, ?B/s]"
      ]
     },
     "metadata": {},
     "output_type": "display_data"
    }
   ],
   "source": [
    "from transformers import pipeline\n",
    "\n",
    "summarizer = pipeline(\"summarization\", model=\"facebook/bart-large-cnn\")"
   ]
  },
  {
   "cell_type": "code",
   "execution_count": 42,
   "id": "bde76d3c-efb7-4038-97c6-f7984cc30177",
   "metadata": {},
   "outputs": [],
   "source": [
    "new_df['facts_len'] = new_df.facts_cleaned.str.split().str.len()"
   ]
  },
  {
   "cell_type": "code",
   "execution_count": 43,
   "id": "e4b93b94-aaaa-41bd-9790-c4cf0a0f19fb",
   "metadata": {},
   "outputs": [
    {
     "data": {
      "text/plain": [
       "count    3303.000000\n",
       "mean      171.703300\n",
       "std        82.826344\n",
       "min         2.000000\n",
       "25%       116.000000\n",
       "50%       162.000000\n",
       "75%       215.000000\n",
       "max       967.000000\n",
       "Name: facts_len, dtype: float64"
      ]
     },
     "execution_count": 43,
     "metadata": {},
     "output_type": "execute_result"
    }
   ],
   "source": [
    "new_df['facts_len'].describe()"
   ]
  },
  {
   "cell_type": "code",
   "execution_count": 44,
   "id": "d6533c76-4b7a-45a8-b317-dfa6bb2c4cf4",
   "metadata": {},
   "outputs": [],
   "source": [
    "keyword_list = ['legal', 'law']\n",
    "\n",
    "def check_keywords(txt):\n",
    "    kw = 0\n",
    "    for word in keyword_list:\n",
    "        if word in txt.lower():\n",
    "            kw=1\n",
    "            break\n",
    "    return kw\n",
    "    "
   ]
  },
  {
   "cell_type": "code",
   "execution_count": 46,
   "id": "e4f7d151-b5a7-49c1-8fa8-622363031d71",
   "metadata": {},
   "outputs": [],
   "source": [
    "new_df['contains_kw'] = new_df.facts_cleaned.apply(check_keywords)"
   ]
  },
  {
   "cell_type": "code",
   "execution_count": 47,
   "id": "041361f6-6a30-41bd-8dcd-9fe6d64f21ee",
   "metadata": {},
   "outputs": [
    {
     "data": {
      "text/plain": [
       "0    3244\n",
       "1      59\n",
       "Name: contains_kw, dtype: int64"
      ]
     },
     "execution_count": 47,
     "metadata": {},
     "output_type": "execute_result"
    }
   ],
   "source": [
    "new_df.contains_kw.value_counts()"
   ]
  },
  {
   "cell_type": "code",
   "execution_count": 48,
   "id": "30c84e98-88b2-4ef1-8095-f0ede2a60ec6",
   "metadata": {},
   "outputs": [],
   "source": [
    "kw_df = new_df[new_df['contains_kw'] == 1]"
   ]
  },
  {
   "cell_type": "code",
   "execution_count": 51,
   "id": "6c6d17f0-ede1-4314-8a7c-8c20e81b9687",
   "metadata": {},
   "outputs": [
    {
     "data": {
      "text/plain": [
       "count     59.000000\n",
       "mean     158.474576\n",
       "std       91.888305\n",
       "min       14.000000\n",
       "25%       85.500000\n",
       "50%      133.000000\n",
       "75%      208.500000\n",
       "max      415.000000\n",
       "Name: facts_len, dtype: float64"
      ]
     },
     "execution_count": 51,
     "metadata": {},
     "output_type": "execute_result"
    }
   ],
   "source": [
    "kw_df.facts_len.describe()"
   ]
  },
  {
   "cell_type": "code",
   "execution_count": 61,
   "id": "62100071-71d3-4279-b44b-80f24e7dfaf6",
   "metadata": {},
   "outputs": [],
   "source": [
    "#kw_df[kw_df.facts_len < 36].facts_cleaned.loc[168]"
   ]
  },
  {
   "cell_type": "raw",
   "id": "38c43884-89ab-4209-97fa-24b9fd5a3e0f",
   "metadata": {},
   "source": [
    "CITATION_PTN = r\"\"\"\n",
    "(?:[\\s,:\\(]|^)\n",
    "(\n",
    "(\\d+)\\s+\n",
    "({reporters})\\s+\n",
    "(\\d+)\n",
    "(?:,\\s+(\\d+(?:\\-\\d+)?))?\n",
    "(?:\\s+\\((.+?)?(\\d{{4}})\\))?\n",
    ")\n",
    "(?:\\W|$)\n",
    "\"\"\".format(reporters='|'.join([re.escape(i) for i in EDITIONS]))\n",
    "CITATION_PTN_RE = re.compile(CITATION_PTN, re.IGNORECASE | re.MULTILINE | re.DOTALL | re.VERBOSE)"
   ]
  }
 ],
 "metadata": {
  "kernelspec": {
   "display_name": "Python 3",
   "language": "python",
   "name": "python3"
  },
  "language_info": {
   "codemirror_mode": {
    "name": "ipython",
    "version": 3
   },
   "file_extension": ".py",
   "mimetype": "text/x-python",
   "name": "python",
   "nbconvert_exporter": "python",
   "pygments_lexer": "ipython3",
   "version": "3.6.13"
  }
 },
 "nbformat": 4,
 "nbformat_minor": 5
}
