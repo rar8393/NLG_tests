{
 "cells": [
  {
   "cell_type": "code",
   "execution_count": 2,
   "id": "cb6b70c9-0384-4fdb-a756-fe74230cde13",
   "metadata": {},
   "outputs": [],
   "source": [
    "import pandas as pd\n",
    "import os\n",
    "import sklearn\n",
    "from sklearn.model_selection import train_test_split"
   ]
  },
  {
   "cell_type": "code",
   "execution_count": null,
   "id": "f1670b81-5afe-4faa-8aaf-2544189483bd",
   "metadata": {},
   "outputs": [],
   "source": [
    "#Data\n",
    "## https://www.kaggle.com/datasets/trikialaaa/2k-clean-medical-articles-medicalnewstoday\n",
    "## https://www.kaggle.com/code/mpwolke/covid-19-preprint-data/data\n",
    "#To add:\n",
    "## https://www.kaggle.com/datasets/saadaljebrreen/corona-various-news-covid19\n",
    "## https://www.kaggle.com/datasets/anshulmehtakaggl/200000-abstracts-for-seq-sentence-classification\n",
    "## https://www.kaggle.com/datasets/rajasankar/covid19-open-research-dataset-sentence-clustering\n",
    "## https://www.kaggle.com/datasets/anandhuh/covid-abstracts"
   ]
  },
  {
   "cell_type": "code",
   "execution_count": 3,
   "id": "570c47ff-29fc-4d5d-a79b-f3ae922bc219",
   "metadata": {},
   "outputs": [
    {
     "data": {
      "text/html": [
       "<div>\n",
       "<style scoped>\n",
       "    .dataframe tbody tr th:only-of-type {\n",
       "        vertical-align: middle;\n",
       "    }\n",
       "\n",
       "    .dataframe tbody tr th {\n",
       "        vertical-align: top;\n",
       "    }\n",
       "\n",
       "    .dataframe thead th {\n",
       "        text-align: right;\n",
       "    }\n",
       "</style>\n",
       "<table border=\"1\" class=\"dataframe\">\n",
       "  <thead>\n",
       "    <tr style=\"text-align: right;\">\n",
       "      <th></th>\n",
       "      <th>DOI</th>\n",
       "      <th>Date of Upload</th>\n",
       "      <th>Title of preprint</th>\n",
       "      <th>Preprint Link</th>\n",
       "      <th>Abstract</th>\n",
       "      <th>Number of Authors</th>\n",
       "      <th>Authors</th>\n",
       "      <th>Author(s) Institutions</th>\n",
       "      <th>Uploaded Site</th>\n",
       "    </tr>\n",
       "  </thead>\n",
       "  <tbody>\n",
       "    <tr>\n",
       "      <th>0</th>\n",
       "      <td>10.1101/2020.06.19.20135996</td>\n",
       "      <td>2020-06-20</td>\n",
       "      <td>The support needs of Australian primary health...</td>\n",
       "      <td>http://medrxiv.org/cgi/content/short/2020.06.1...</td>\n",
       "      <td>Aim: To identify Australian primary healthcare...</td>\n",
       "      <td>7</td>\n",
       "      <td>['Elizabeth Halcomb', 'Anna Williams', 'Christ...</td>\n",
       "      <td>{\"University of Wollongong\": 6, \"University of...</td>\n",
       "      <td>medrxiv</td>\n",
       "    </tr>\n",
       "    <tr>\n",
       "      <th>1</th>\n",
       "      <td>10.1101/2020.06.18.20135103</td>\n",
       "      <td>2020-06-20</td>\n",
       "      <td>Modeling quantitative traits for COVID-19 case...</td>\n",
       "      <td>http://medrxiv.org/cgi/content/short/2020.06.1...</td>\n",
       "      <td>Medical practitioners record the condition sta...</td>\n",
       "      <td>6</td>\n",
       "      <td>['Nuria Queralt-Rosinach', 'Susan Bello', 'Rob...</td>\n",
       "      <td>{\"Leids Universitair Medisch Centrum\": 1, \"The...</td>\n",
       "      <td>medrxiv</td>\n",
       "    </tr>\n",
       "  </tbody>\n",
       "</table>\n",
       "</div>"
      ],
      "text/plain": [
       "                           DOI Date of Upload  \\\n",
       "0  10.1101/2020.06.19.20135996     2020-06-20   \n",
       "1  10.1101/2020.06.18.20135103     2020-06-20   \n",
       "\n",
       "                                   Title of preprint  \\\n",
       "0  The support needs of Australian primary health...   \n",
       "1  Modeling quantitative traits for COVID-19 case...   \n",
       "\n",
       "                                       Preprint Link  \\\n",
       "0  http://medrxiv.org/cgi/content/short/2020.06.1...   \n",
       "1  http://medrxiv.org/cgi/content/short/2020.06.1...   \n",
       "\n",
       "                                            Abstract  Number of Authors  \\\n",
       "0  Aim: To identify Australian primary healthcare...                  7   \n",
       "1  Medical practitioners record the condition sta...                  6   \n",
       "\n",
       "                                             Authors  \\\n",
       "0  ['Elizabeth Halcomb', 'Anna Williams', 'Christ...   \n",
       "1  ['Nuria Queralt-Rosinach', 'Susan Bello', 'Rob...   \n",
       "\n",
       "                              Author(s) Institutions Uploaded Site  \n",
       "0  {\"University of Wollongong\": 6, \"University of...       medrxiv  \n",
       "1  {\"Leids Universitair Medisch Centrum\": 1, \"The...       medrxiv  "
      ]
     },
     "execution_count": 3,
     "metadata": {},
     "output_type": "execute_result"
    }
   ],
   "source": [
    "df = pd.read_csv('COVID-19-Preprint-Data_ver5.csv')\n",
    "df.head(2)"
   ]
  },
  {
   "cell_type": "code",
   "execution_count": 4,
   "id": "c3302483-8ad4-410d-b4d1-9ab5e7da2171",
   "metadata": {},
   "outputs": [
    {
     "name": "stdout",
     "output_type": "stream",
     "text": [
      "Aim: To identify Australian primary healthcare nurses immediate support needs during the COVID-19 pandemic. Background: COVID-19 has had widespread implications for primary healthcare nurses. Supporting these nurses' capacity to deliver quality care ensures that ongoing health needs can be met. Methods: Primary healthcare nurses were recruited to an online survey via social media and professional organisations in April 2020. Results: Six-hundred and thirty-seven responses were included in analysis. Participants provided 1213 statements about perceived supports required to provide quality clinical care. From these, seven key categories emerged, namely; personal protective equipment, communication, funding, industrial issues, self-care, workplace factors and valuing nurses. Conclusion: A number of key issues relating to personal health and safety, care quality, and job security need to be addressed to support primary healthcare nurses during the COVID-19 pandemic. Addressing these support issues can assist in retaining nurses and optimising the role of primary healthcare nurses during a pandemic. Implications for nursing management: Responding to the needs of primary healthcare nurses has the potential to facilitate their role in providing community-based healthcare. This knowledge can guide the provision of support for primary healthcare nurses during the current pandemic, as well as informing planning for future health crises.\n"
     ]
    }
   ],
   "source": [
    "print(df.Abstract.iloc[0])"
   ]
  },
  {
   "cell_type": "code",
   "execution_count": null,
   "id": "40cd0188-165f-4a80-87f1-7573a842f8d3",
   "metadata": {},
   "outputs": [],
   "source": [
    "files = os.listdir('articles')"
   ]
  },
  {
   "cell_type": "code",
   "execution_count": 7,
   "id": "483e4c97-e2a3-473a-82df-edf206f82534",
   "metadata": {},
   "outputs": [
    {
     "name": "stdout",
     "output_type": "stream",
     "text": [
      "articles/\n"
     ]
    }
   ],
   "source": [
    "print(\"articles\"+\"/\")"
   ]
  },
  {
   "cell_type": "code",
   "execution_count": 8,
   "id": "63e14322-4755-4681-b145-7540125eb6ff",
   "metadata": {},
   "outputs": [],
   "source": [
    "path = \"articles/\"\n",
    "saved_text = []\n",
    "\n",
    "for file in files:\n",
    "    if file.endswith(\".txt\"):\n",
    "        file_path = path + file # f\"{path}\\{file}\"\n",
    "        with open(file_path, 'r') as f:\n",
    "            saved_text.append(f.read())"
   ]
  },
  {
   "cell_type": "code",
   "execution_count": 9,
   "id": "234a6088-8ba2-4edf-8a3d-ccd0b8c9549d",
   "metadata": {},
   "outputs": [],
   "source": [
    "combined_text = df.Abstract.tolist() + saved_text"
   ]
  },
  {
   "cell_type": "code",
   "execution_count": 14,
   "id": "29a84c3b-96d2-47a6-9108-0d254d59ff85",
   "metadata": {},
   "outputs": [],
   "source": [
    "train, val = train_test_split(combined_text, test_size=0.12, random_state=42)"
   ]
  },
  {
   "cell_type": "code",
   "execution_count": 15,
   "id": "4136f7a4-b800-488f-b041-2917e2c72609",
   "metadata": {},
   "outputs": [
    {
     "name": "stdout",
     "output_type": "stream",
     "text": [
      "6621 903\n"
     ]
    }
   ],
   "source": [
    "print(len(train),len(val))"
   ]
  },
  {
   "cell_type": "code",
   "execution_count": 16,
   "id": "edcbbb7f-c34b-4a41-a530-5836e3ad354d",
   "metadata": {},
   "outputs": [],
   "source": [
    "with open('new_dataset/train.txt', 'w') as f:\n",
    "    for file in train:\n",
    "        f.write(f\"{file}\\n\")\n",
    "        \n",
    "with open('new_dataset/val.txt', 'w') as f:\n",
    "    for file in val:\n",
    "        f.write(f\"{file}\\n\")"
   ]
  },
  {
   "cell_type": "code",
   "execution_count": null,
   "id": "03ff4436-bf5d-4c68-a54b-9f3798e92938",
   "metadata": {},
   "outputs": [],
   "source": []
  }
 ],
 "metadata": {
  "kernelspec": {
   "display_name": "Python 3 (ipykernel)",
   "language": "python",
   "name": "python3"
  },
  "language_info": {
   "codemirror_mode": {
    "name": "ipython",
    "version": 3
   },
   "file_extension": ".py",
   "mimetype": "text/x-python",
   "name": "python",
   "nbconvert_exporter": "python",
   "pygments_lexer": "ipython3",
   "version": "3.10.4"
  }
 },
 "nbformat": 4,
 "nbformat_minor": 5
}
