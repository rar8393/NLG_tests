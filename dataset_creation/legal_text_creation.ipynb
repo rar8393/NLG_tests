{
 "cells": [
  {
   "cell_type": "code",
   "execution_count": 1,
   "id": "3919c024-d817-4250-808d-a1a71d5e5325",
   "metadata": {},
   "outputs": [],
   "source": [
    "import pandas as pd\n",
    "import os\n",
    "import re\n",
    "import sklearn\n",
    "from sklearn.model_selection import train_test_split"
   ]
  },
  {
   "cell_type": "code",
   "execution_count": null,
   "id": "aff4312f-c50f-4e3c-89f4-cd3eada00f3f",
   "metadata": {},
   "outputs": [],
   "source": [
    "#Datasets\n",
    "## https://www.kaggle.com/datasets/theatticusproject/atticus-open-contract-dataset-aok-beta\n",
    "## https://www.kaggle.com/datasets/shivamb/legal-citation-text-classification"
   ]
  },
  {
   "cell_type": "code",
   "execution_count": 2,
   "id": "5248d5fc-eefe-4361-bc8b-46419ec9d4cf",
   "metadata": {},
   "outputs": [],
   "source": [
    "import json\n",
    "import pprint\n",
    "\n",
    "data = json.load(open('legal/cuad_atticus/CUADv1.json', 'rb'))\n",
    "#pprint.pprint(data, depth=2)"
   ]
  },
  {
   "cell_type": "code",
   "execution_count": 3,
   "id": "68a4efa0-8561-4474-9423-799fdf4839b4",
   "metadata": {},
   "outputs": [],
   "source": [
    "#data = json.load(open('legal/cuad_atticus/train_separate_questions.json', 'rb'))"
   ]
  },
  {
   "cell_type": "code",
   "execution_count": 4,
   "id": "f0f0add8-6360-41ac-9f03-ddb1340838e9",
   "metadata": {},
   "outputs": [],
   "source": [
    "reduced_legal_list = []\n",
    "for i in range(len(data['data'])):\n",
    "    context_data = data['data'][i]['paragraphs'][0]['context']\n",
    "    data_keep = [x.strip() for x in context_data.split('\\n') if len(x.strip()) > 350]\n",
    "    reduced_legal_list += data_keep"
   ]
  },
  {
   "cell_type": "code",
   "execution_count": 5,
   "id": "86e554bc-845f-4d13-b7fe-52f845b758cf",
   "metadata": {},
   "outputs": [],
   "source": [
    "legal_text_classification_df = pd.read_csv('legal/legal_text_classification.csv')"
   ]
  },
  {
   "cell_type": "code",
   "execution_count": 6,
   "id": "2d418445-d7ab-43d3-b86f-21f3e5da8fad",
   "metadata": {},
   "outputs": [],
   "source": [
    "#subset\n",
    "legal_text_classification_df.drop_duplicates(subset=['case_text'],inplace=True)"
   ]
  },
  {
   "cell_type": "code",
   "execution_count": 7,
   "id": "1a227f7c-7272-4620-a505-7a2da37bd3ec",
   "metadata": {},
   "outputs": [
    {
     "data": {
      "text/html": [
       "<div>\n",
       "<style scoped>\n",
       "    .dataframe tbody tr th:only-of-type {\n",
       "        vertical-align: middle;\n",
       "    }\n",
       "\n",
       "    .dataframe tbody tr th {\n",
       "        vertical-align: top;\n",
       "    }\n",
       "\n",
       "    .dataframe thead th {\n",
       "        text-align: right;\n",
       "    }\n",
       "</style>\n",
       "<table border=\"1\" class=\"dataframe\">\n",
       "  <thead>\n",
       "    <tr style=\"text-align: right;\">\n",
       "      <th></th>\n",
       "      <th>case_id</th>\n",
       "      <th>case_outcome</th>\n",
       "      <th>case_title</th>\n",
       "      <th>case_text</th>\n",
       "    </tr>\n",
       "  </thead>\n",
       "  <tbody>\n",
       "    <tr>\n",
       "      <th>0</th>\n",
       "      <td>Case1</td>\n",
       "      <td>cited</td>\n",
       "      <td>Alpine Hardwood (Aust) Pty Ltd v Hardys Pty Lt...</td>\n",
       "      <td>Ordinarily that discretion will be exercised s...</td>\n",
       "    </tr>\n",
       "    <tr>\n",
       "      <th>1</th>\n",
       "      <td>Case2</td>\n",
       "      <td>cited</td>\n",
       "      <td>Black v Lipovac [1998] FCA 699 ; (1998) 217 AL...</td>\n",
       "      <td>The general principles governing the exercise ...</td>\n",
       "    </tr>\n",
       "    <tr>\n",
       "      <th>4</th>\n",
       "      <td>Case5</td>\n",
       "      <td>cited</td>\n",
       "      <td>Dr Martens Australia Pty Ltd v Figgins Holding...</td>\n",
       "      <td>The preceding general principles inform the ex...</td>\n",
       "    </tr>\n",
       "    <tr>\n",
       "      <th>5</th>\n",
       "      <td>Case6</td>\n",
       "      <td>cited</td>\n",
       "      <td>GEC Marconi Systems Pty Ltd v BHP Information ...</td>\n",
       "      <td>I accept that the making of a rolled up offer ...</td>\n",
       "    </tr>\n",
       "    <tr>\n",
       "      <th>7</th>\n",
       "      <td>Case8</td>\n",
       "      <td>cited</td>\n",
       "      <td>Seven Network Limited v News Limited (2007) 24...</td>\n",
       "      <td>On the question of the level of unreasonablene...</td>\n",
       "    </tr>\n",
       "    <tr>\n",
       "      <th>...</th>\n",
       "      <td>...</td>\n",
       "      <td>...</td>\n",
       "      <td>...</td>\n",
       "      <td>...</td>\n",
       "    </tr>\n",
       "    <tr>\n",
       "      <th>24969</th>\n",
       "      <td>Case25192</td>\n",
       "      <td>cited</td>\n",
       "      <td>Buckley v Bennell Design &amp;amp; Constructions P...</td>\n",
       "      <td>Those cases reflect the policy underlying s 13...</td>\n",
       "    </tr>\n",
       "    <tr>\n",
       "      <th>24975</th>\n",
       "      <td>Case25198</td>\n",
       "      <td>cited</td>\n",
       "      <td>Newtons Travel Services Pty Ltd v Ansett Trans...</td>\n",
       "      <td>In my view, it is clear that the Court may do ...</td>\n",
       "    </tr>\n",
       "    <tr>\n",
       "      <th>24979</th>\n",
       "      <td>Case25202</td>\n",
       "      <td>cited</td>\n",
       "      <td>Ratepayers &amp;amp; Residents Action Association ...</td>\n",
       "      <td>Once the threshold prescribed by s 1335 is sat...</td>\n",
       "    </tr>\n",
       "    <tr>\n",
       "      <th>24983</th>\n",
       "      <td>Case25206</td>\n",
       "      <td>distinguished</td>\n",
       "      <td>Tullock Ltd v Walker (Unreported, Supreme Cour...</td>\n",
       "      <td>Given the extent to which Deumer stands to gai...</td>\n",
       "    </tr>\n",
       "    <tr>\n",
       "      <th>24984</th>\n",
       "      <td>Case25207</td>\n",
       "      <td>distinguished</td>\n",
       "      <td>Yandil Holdings Pty Ltd v Insurance Co of Nort...</td>\n",
       "      <td>In my view, it is clear that the Court may do ...</td>\n",
       "    </tr>\n",
       "  </tbody>\n",
       "</table>\n",
       "<p>17921 rows × 4 columns</p>\n",
       "</div>"
      ],
      "text/plain": [
       "         case_id   case_outcome  \\\n",
       "0          Case1          cited   \n",
       "1          Case2          cited   \n",
       "4          Case5          cited   \n",
       "5          Case6          cited   \n",
       "7          Case8          cited   \n",
       "...          ...            ...   \n",
       "24969  Case25192          cited   \n",
       "24975  Case25198          cited   \n",
       "24979  Case25202          cited   \n",
       "24983  Case25206  distinguished   \n",
       "24984  Case25207  distinguished   \n",
       "\n",
       "                                              case_title  \\\n",
       "0      Alpine Hardwood (Aust) Pty Ltd v Hardys Pty Lt...   \n",
       "1      Black v Lipovac [1998] FCA 699 ; (1998) 217 AL...   \n",
       "4      Dr Martens Australia Pty Ltd v Figgins Holding...   \n",
       "5      GEC Marconi Systems Pty Ltd v BHP Information ...   \n",
       "7      Seven Network Limited v News Limited (2007) 24...   \n",
       "...                                                  ...   \n",
       "24969  Buckley v Bennell Design &amp; Constructions P...   \n",
       "24975  Newtons Travel Services Pty Ltd v Ansett Trans...   \n",
       "24979  Ratepayers &amp; Residents Action Association ...   \n",
       "24983  Tullock Ltd v Walker (Unreported, Supreme Cour...   \n",
       "24984  Yandil Holdings Pty Ltd v Insurance Co of Nort...   \n",
       "\n",
       "                                               case_text  \n",
       "0      Ordinarily that discretion will be exercised s...  \n",
       "1      The general principles governing the exercise ...  \n",
       "4      The preceding general principles inform the ex...  \n",
       "5      I accept that the making of a rolled up offer ...  \n",
       "7      On the question of the level of unreasonablene...  \n",
       "...                                                  ...  \n",
       "24969  Those cases reflect the policy underlying s 13...  \n",
       "24975  In my view, it is clear that the Court may do ...  \n",
       "24979  Once the threshold prescribed by s 1335 is sat...  \n",
       "24983  Given the extent to which Deumer stands to gai...  \n",
       "24984  In my view, it is clear that the Court may do ...  \n",
       "\n",
       "[17921 rows x 4 columns]"
      ]
     },
     "execution_count": 7,
     "metadata": {},
     "output_type": "execute_result"
    }
   ],
   "source": [
    "legal_text_classification_df"
   ]
  },
  {
   "cell_type": "code",
   "execution_count": 8,
   "id": "4ab81740-bd72-4957-8033-14ddf7fefa12",
   "metadata": {},
   "outputs": [],
   "source": [
    "legal_text_classification_df.dropna(subset=['case_text'],inplace=True)"
   ]
  },
  {
   "cell_type": "code",
   "execution_count": 9,
   "id": "fb239838-b51e-48b7-8387-99674127e315",
   "metadata": {},
   "outputs": [],
   "source": [
    "legal_text_classification_df['length'] = legal_text_classification_df['case_text'].str.len()"
   ]
  },
  {
   "cell_type": "code",
   "execution_count": 10,
   "id": "c7d59eb8-5999-4ed8-9404-21fbd0c5c690",
   "metadata": {},
   "outputs": [
    {
     "data": {
      "text/plain": [
       "count     17920.000000\n",
       "mean       2551.235938\n",
       "std        4433.934383\n",
       "min          95.000000\n",
       "25%         890.000000\n",
       "50%        1589.000000\n",
       "75%        2889.250000\n",
       "max      133561.000000\n",
       "Name: length, dtype: float64"
      ]
     },
     "execution_count": 10,
     "metadata": {},
     "output_type": "execute_result"
    }
   ],
   "source": [
    "legal_text_classification_df['length'].describe()"
   ]
  },
  {
   "cell_type": "code",
   "execution_count": 11,
   "id": "fcdf41de-255e-4840-9838-bc59ff98fce8",
   "metadata": {},
   "outputs": [],
   "source": [
    "legal_text_df = legal_text_classification_df[(legal_text_classification_df.length > 500) & (legal_text_classification_df.length < 2754)]"
   ]
  },
  {
   "cell_type": "code",
   "execution_count": 12,
   "id": "cc44cdb6-76b2-4a05-b826-951750a1d86c",
   "metadata": {},
   "outputs": [
    {
     "data": {
      "text/plain": [
       "\"On 30 March 2006 Siopis J made interim orders restraining the defendants from removing any of their property from Australia or from otherwise dealing with it except to the extent set out in the order. He also directed the surrender of their passports. His Honour published his reasons for those orders on 5 April 2006 Australian Securities and Investments Commission, In the Matter of Richstar Enterprises Pty Ltd (ACN 099 071 968) v Carey [2006] FCA 366. 16 On 7 April 2006 I made orders extending the operation of the interim injunctions granted by Siopis J (subject to some undisputed variations) until 5pm on 12 April 2006 which was the date set down for the hearing of the substantive application. Following the hearing of the substantive application those orders were further extended to 5pm on Thursday 20 April 2006 subject to further agreed variations. Judgment on the substantive application was reserved to 2.15pm on Thursday 20 April 2006. 17 There was an application made on behalf of the second defendant for an order setting aside the ex parte orders made by Siopis J on the basis that there had not been full disclosure by ASIC of relevant evidence to the Court. The second defendant submitted that ASIC's evidence predominately related to transactions involving other defendants which were not relevant to the second. I am not satisfied that any material non disclosure is shown. In any event the interim freezing orders lapse today.\""
      ]
     },
     "execution_count": 12,
     "metadata": {},
     "output_type": "execute_result"
    }
   ],
   "source": [
    "legal_text_df.case_text.iloc[15]"
   ]
  },
  {
   "cell_type": "code",
   "execution_count": 13,
   "id": "f139f420-62e6-41fc-90bb-445cc9bb59e1",
   "metadata": {},
   "outputs": [],
   "source": [
    "new_legal_list = reduced_legal_list + legal_text_df.case_text.tolist()"
   ]
  },
  {
   "cell_type": "code",
   "execution_count": 14,
   "id": "76a5eb0d-8882-435c-a905-215bafa54c92",
   "metadata": {},
   "outputs": [
    {
     "data": {
      "text/plain": [
       "31672"
      ]
     },
     "execution_count": 14,
     "metadata": {},
     "output_type": "execute_result"
    }
   ],
   "source": [
    "len(new_legal_list)"
   ]
  },
  {
   "cell_type": "code",
   "execution_count": 16,
   "id": "2c42fc7a-d325-4163-be23-6f7278e6421e",
   "metadata": {},
   "outputs": [],
   "source": [
    "train, val = train_test_split(new_legal_list, test_size=0.15, random_state=42)"
   ]
  },
  {
   "cell_type": "code",
   "execution_count": 21,
   "id": "febbe80c-2b73-44cb-8f73-a17cee5e1a16",
   "metadata": {},
   "outputs": [],
   "source": [
    "with open('legal/legal_dataset/legal_train.txt', 'w') as f:\n",
    "    for file in train:\n",
    "        f.write(f\"{file}\\n\")\n",
    "        \n",
    "with open('legal/legal_dataset/legal_val.txt', 'w') as f:\n",
    "    for file in val:\n",
    "        f.write(f\"{file}\\n\")"
   ]
  },
  {
   "cell_type": "code",
   "execution_count": null,
   "id": "70d38e42-52b9-41df-91e5-dcd0049158f5",
   "metadata": {},
   "outputs": [],
   "source": []
  }
 ],
 "metadata": {
  "kernelspec": {
   "display_name": "Python 3 (ipykernel)",
   "language": "python",
   "name": "python3"
  },
  "language_info": {
   "codemirror_mode": {
    "name": "ipython",
    "version": 3
   },
   "file_extension": ".py",
   "mimetype": "text/x-python",
   "name": "python",
   "nbconvert_exporter": "python",
   "pygments_lexer": "ipython3",
   "version": "3.10.4"
  }
 },
 "nbformat": 4,
 "nbformat_minor": 5
}
