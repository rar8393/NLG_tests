{
 "cells": [
  {
   "cell_type": "code",
   "execution_count": 1,
   "id": "353606fb-1f78-4189-9595-c9bd12b21f67",
   "metadata": {},
   "outputs": [],
   "source": [
    "import pandas as pd\n",
    "import io\n",
    "import re"
   ]
  },
  {
   "cell_type": "code",
   "execution_count": 3,
   "id": "50eb162b-980f-4fd1-b2e5-e78eb458e50b",
   "metadata": {},
   "outputs": [],
   "source": [
    "def get_lines(filename):\n",
    "    with open(filename,\"r\") as f:\n",
    "        return f.readlines()"
   ]
  },
  {
   "cell_type": "code",
   "execution_count": 4,
   "id": "ea922e82-7876-4c3a-9989-71150104f767",
   "metadata": {},
   "outputs": [],
   "source": [
    "data_dir = 'medical/200k_abstracts/'\n",
    "train_data_lines=get_lines(data_dir+\"train.txt\")"
   ]
  },
  {
   "cell_type": "code",
   "execution_count": 5,
   "id": "fab491c7-c7ce-48e6-8bc9-dc8b36dcb961",
   "metadata": {},
   "outputs": [],
   "source": [
    "def preprocess_data(filename):\n",
    "    input_lines=get_lines(filename)\n",
    "    #This will be used to separte the abstracts from  one another using String mets\n",
    "    abstract_lines=\"\"\n",
    "    # Empty list of abstracts\n",
    "    abstract_samples=[]\n",
    "    for line in input_lines:\n",
    "        # Check for a new abstract\n",
    "        if line.startswith(\"###\"):\n",
    "            abstract_id=line\n",
    "            # And since we are in a new abstract we will Reset the abstract_lines\n",
    "            abstract_lines=\"\"\n",
    "        # Check for a new line \\n escape seq\n",
    "        elif line.isspace():\n",
    "            # Split the Lines of the abstract and will return a list of one abstract\n",
    "            abstract_line_split=abstract_lines.splitlines()\n",
    "            # Now we have to iterate through this singular abstract\n",
    "            for abstract_line_number, abstract_line in enumerate(abstract_line_split):\n",
    "                #  Enumerate() method adds a counter to an iterable and returns it in a form of enumerating object.\n",
    "                # Create a empty Dict per line\n",
    "                line_data={}\n",
    "                # Split on the tab \\t esc seq\n",
    "                target_text_split=abstract_line.split(\"\\t\")\n",
    "                # Get the Label of the sentence as the Label\n",
    "                line_data[\"target\"]=target_text_split[0]\n",
    "                # Get the Text of the Lien as the Text Key\n",
    "                line_data[\"text\"]=target_text_split[1].lower()\n",
    "                # Also adding the Line Nnumber as it will also aid the model\n",
    "                line_data[\"line_number\"]=abstract_line_number\n",
    "                # Number of Lines in that particular abstract\n",
    "                line_data[\"total_lines\"]=len(abstract_line_split)-1\n",
    "                # Now we have to append them to the absract_samples list\n",
    "                abstract_samples.append(line_data)\n",
    "        # So if both the cases are not there then the line is a labelled sentence\n",
    "        else:\n",
    "            abstract_lines+=line\n",
    "    return abstract_samples"
   ]
  },
  {
   "cell_type": "raw",
   "id": "9e82da40-e2b8-4f09-9040-b4a0cccc0162",
   "metadata": {},
   "source": [
    "test = preprocess_data(data_dir+'dev.txt')"
   ]
  },
  {
   "cell_type": "code",
   "execution_count": 8,
   "id": "7bedb8f4-6f1b-42b2-9a59-a86fc73f1758",
   "metadata": {},
   "outputs": [],
   "source": [
    "train_data_lines=get_lines(data_dir+\"train.txt\")\n",
    "val_data_lines=get_lines(data_dir+\"dev.txt\")\n",
    "test_data_lines=get_lines(data_dir+\"test.txt\")"
   ]
  },
  {
   "cell_type": "raw",
   "id": "eaad1de0-cc93-4fd5-a091-defcbe71f9c0",
   "metadata": {},
   "source": [
    "target_list = ['OBJECTIVE','METHODS', 'BACKGROUND', 'CONCLUSIONS', 'RESULTS']\n",
    "for line in train_data_lines[:4]:\n",
    "    for t in target_list:\n",
    "        if t in line:\n",
    "            print(t)"
   ]
  },
  {
   "cell_type": "code",
   "execution_count": 15,
   "id": "a81d17e5-955c-4083-8929-d2bc6b6a2113",
   "metadata": {},
   "outputs": [],
   "source": [
    "target_list = ['OBJECTIVE','METHODS', 'BACKGROUND', 'CONCLUSIONS', 'RESULTS']\n",
    "data_dir = 'medical/200k_abstracts/'\n",
    "train_data_lines=get_lines(data_dir+\"train.txt\")\n",
    "\n",
    "def extract_text_by_target(train_data_lines, target_list):\n",
    "    reduced_list = []\n",
    "    tmp = {}\n",
    "    for i in range(len(train_data_lines)):\n",
    "        line = train_data_lines[i]\n",
    "        if line.startswith(\"###\"):\n",
    "            reduced_list.append(tmp)\n",
    "            tmp = {}\n",
    "            target = 'None'\n",
    "            tmp['id'] = line.split('\\n')[0]\n",
    "        for t in target_list:\n",
    "            if t in line:\n",
    "                if t == target:\n",
    "                    line = line.replace(target, ' ')\n",
    "                    line = line.replace('\\t', ' ')\n",
    "                    tmp[target] += (' '.join(line.split('\\n'))).strip()\n",
    "                else:\n",
    "                    target = t\n",
    "                    line = line.replace(target, ' ')\n",
    "                    line = line.replace('\\t', ' ')\n",
    "                    tmp[target] = (' '.join(line.split('\\n'))).strip()\n",
    "    reduced_list = reduced_list[1:]\n",
    "    return reduced_list\n",
    "\n",
    "def combine_text(reduced_list):\n",
    "    for i in range(len(reduced_list)):\n",
    "        combined_text = ''\n",
    "        info = reduced_list[i]\n",
    "        for key in info:\n",
    "            if key != 'id':\n",
    "                combined_text += info[key]\n",
    "        reduced_list[i]['combined'] = combined_text\n",
    "    return reduced_list\n",
    "\n",
    "def clean_combine_text(reduced_list):\n",
    "    for i in range(len(reduced_list)):\n",
    "        combo_txt = reduced_list[i]['combined']\n",
    "        txt = re.sub(\"[\\(\\[].*?[\\)\\]]\", \"\", combo_txt)\n",
    "        txt = re.sub(\"number\\s+(NCT)\\d+\",\"\", txt)\n",
    "        txt = re.sub(\"(NCT)\\d+\", \"\", txt)\n",
    "        txt = re.sub(r'(https|http)?:\\/\\/(\\w|\\.|\\/|\\?|\\=|\\&|\\%)*\\b', '', txt)\n",
    "        txt = re.sub(\"clinicaltrials\\.gov\",\"\", txt, flags=re.IGNORECASE)\n",
    "        reduced_list[i]['combined_cleaned'] = txt.strip()\n",
    "    return reduced_list\n",
    "\n",
    "def extract_clean_text(train_data_path, target_list):\n",
    "    train_data_lines=get_lines(train_data_path)\n",
    "    reduced_list = extract_text_by_target(train_data_lines, target_list)\n",
    "    reduced_list = combine_text(reduced_list)\n",
    "    reduced_list = clean_combine_text(reduced_list)\n",
    "    return reduced_list"
   ]
  },
  {
   "cell_type": "raw",
   "id": "55e8a18b-ae82-412d-b141-eeacb7fd7a8c",
   "metadata": {},
   "source": [
    "reduced_list = []\n",
    "target_list = ['OBJECTIVE','METHODS', 'BACKGROUND', 'CONCLUSIONS', 'RESULTS']\n",
    "tmp = {}\n",
    "for i in range(len(train_data_lines)):\n",
    "    line = train_data_lines[i]\n",
    "    if line.startswith(\"###\"):\n",
    "        reduced_list.append(tmp)\n",
    "        tmp = {}\n",
    "        target = 'None'\n",
    "        tmp['id'] = line.split('\\n')[0]\n",
    "    for t in target_list:\n",
    "        if t in line:\n",
    "            if t == target:\n",
    "                line = line.replace(target, ' ')\n",
    "                line = line.replace('\\t', ' ')\n",
    "                tmp[target] += (' '.join(line.split('\\n'))).strip()\n",
    "            else:\n",
    "                target = t\n",
    "                line = line.replace(target, ' ')\n",
    "                line = line.replace('\\t', ' ')\n",
    "                tmp[target] = (' '.join(line.split('\\n'))).strip()\n",
    "reduced_list = reduced_list[1:]"
   ]
  },
  {
   "cell_type": "raw",
   "id": "6ace61f8-7bce-459b-a0ff-47b7ff4e7329",
   "metadata": {},
   "source": [
    "for i in range(len(reduced_list)):\n",
    "    combined_text = ''\n",
    "    info = reduced_list[i]\n",
    "    for key in info:\n",
    "        if key != 'id':\n",
    "            combined_text += info[key]\n",
    "    reduced_list[i]['combined'] = combined_text"
   ]
  },
  {
   "cell_type": "raw",
   "id": "11868422-da30-4e98-ab51-e721c7a05025",
   "metadata": {},
   "source": [
    "reduced_list[1]"
   ]
  },
  {
   "cell_type": "raw",
   "id": "19e1a842-c9a5-4f34-bc1a-097919d7d020",
   "metadata": {},
   "source": [
    "for i in range(len(reduced_list)):\n",
    "    combo_txt = reduced_list[i]['combined']\n",
    "    txt = re.sub(\"[\\(\\[].*?[\\)\\]]\", \"\", combo_txt)\n",
    "    txt = re.sub(\"number\\s+(NCT)\\d+\",\"\", txt)\n",
    "    txt = re.sub(\"(NCT)\\d+\", \"\", txt)\n",
    "    txt = re.sub(r'(https|http)?:\\/\\/(\\w|\\.|\\/|\\?|\\=|\\&|\\%)*\\b', '', txt)\n",
    "    txt = re.sub(\"clinicaltrials\\.gov\",\"\", txt, flags=re.IGNORECASE)\n",
    "    reduced_list[i]['combined_cleaned'] = txt.strip()"
   ]
  },
  {
   "cell_type": "code",
   "execution_count": null,
   "id": "a064892c-4f5c-4022-8853-b0efeba82b31",
   "metadata": {},
   "outputs": [],
   "source": []
  },
  {
   "cell_type": "code",
   "execution_count": 13,
   "id": "e50bb409-2d42-4800-95ee-df718daa3e2c",
   "metadata": {},
   "outputs": [],
   "source": [
    "#df = pd.DataFrame(reduced_list)"
   ]
  },
  {
   "cell_type": "code",
   "execution_count": 16,
   "id": "1909c81a-3d5e-40f7-b861-5e25e29b7d37",
   "metadata": {},
   "outputs": [],
   "source": [
    "train_reduced = extract_clean_text(data_dir+\"train.txt\", target_list)\n",
    "dev_reduced = extract_clean_text(data_dir+\"dev.txt\", target_list)\n",
    "test_reduced = extract_clean_text(data_dir+\"test.txt\", target_list)"
   ]
  },
  {
   "cell_type": "code",
   "execution_count": 18,
   "id": "39a93313-347f-4bef-8d70-5f967d12566b",
   "metadata": {},
   "outputs": [],
   "source": [
    "df = pd.DataFrame(train_reduced+dev_reduced+test_reduced)"
   ]
  },
  {
   "cell_type": "code",
   "execution_count": 20,
   "id": "9456a49d-0927-4621-bf9b-8650032501d5",
   "metadata": {},
   "outputs": [],
   "source": [
    "df['len'] = df['combined_cleaned'].str.split().str.len()\n",
    "df = df[df['len'] > 30]"
   ]
  },
  {
   "cell_type": "code",
   "execution_count": 21,
   "id": "d8b0ba55-8226-4b28-98a5-61211a3776d3",
   "metadata": {},
   "outputs": [
    {
     "data": {
      "text/plain": [
       "count    195651.000000\n",
       "mean        242.857598\n",
       "std          62.447768\n",
       "min          33.000000\n",
       "25%         205.000000\n",
       "50%         238.000000\n",
       "75%         269.000000\n",
       "max        1114.000000\n",
       "Name: len, dtype: float64"
      ]
     },
     "execution_count": 21,
     "metadata": {},
     "output_type": "execute_result"
    }
   ],
   "source": [
    "df.len.describe()"
   ]
  },
  {
   "cell_type": "code",
   "execution_count": 22,
   "id": "c48cf435-69cc-4cec-b338-de629e6a14dd",
   "metadata": {},
   "outputs": [],
   "source": [
    "keyword_list = ['legal', 'law']\n",
    "\n",
    "def check_keywords(txt):\n",
    "    kw = 0\n",
    "    for word in keyword_list:\n",
    "        if word in txt.lower():\n",
    "            kw=1\n",
    "            break\n",
    "    return kw"
   ]
  },
  {
   "cell_type": "code",
   "execution_count": 23,
   "id": "e402b0dd-1563-4a8e-86ce-5f43d90a59b4",
   "metadata": {},
   "outputs": [],
   "source": [
    "df['contains_kw'] = df.combined.apply(check_keywords)"
   ]
  },
  {
   "cell_type": "code",
   "execution_count": 24,
   "id": "276472b0-cbbf-4c77-a5cc-82a17d1a1b7b",
   "metadata": {},
   "outputs": [
    {
     "data": {
      "text/plain": [
       "0    191939\n",
       "1      3712\n",
       "Name: contains_kw, dtype: int64"
      ]
     },
     "execution_count": 24,
     "metadata": {},
     "output_type": "execute_result"
    }
   ],
   "source": [
    "df.contains_kw.value_counts()"
   ]
  },
  {
   "cell_type": "code",
   "execution_count": 25,
   "id": "62da5398-9996-4944-ba74-ae244879c5a7",
   "metadata": {},
   "outputs": [
    {
     "data": {
      "text/plain": [
       "count    3712.000000\n",
       "mean      236.740032\n",
       "std        65.256375\n",
       "min        57.000000\n",
       "25%       195.000000\n",
       "50%       231.000000\n",
       "75%       267.000000\n",
       "max       692.000000\n",
       "Name: len, dtype: float64"
      ]
     },
     "execution_count": 25,
     "metadata": {},
     "output_type": "execute_result"
    }
   ],
   "source": [
    "kw_df = df[df['contains_kw'] == 1]\n",
    "kw_df.len.describe()"
   ]
  },
  {
   "cell_type": "code",
   "execution_count": 26,
   "id": "581919fd-aada-449b-a39e-b13f02b46e07",
   "metadata": {},
   "outputs": [
    {
     "data": {
      "text/html": [
       "<div>\n",
       "<style scoped>\n",
       "    .dataframe tbody tr th:only-of-type {\n",
       "        vertical-align: middle;\n",
       "    }\n",
       "\n",
       "    .dataframe tbody tr th {\n",
       "        vertical-align: top;\n",
       "    }\n",
       "\n",
       "    .dataframe thead th {\n",
       "        text-align: right;\n",
       "    }\n",
       "</style>\n",
       "<table border=\"1\" class=\"dataframe\">\n",
       "  <thead>\n",
       "    <tr style=\"text-align: right;\">\n",
       "      <th></th>\n",
       "      <th>id</th>\n",
       "      <th>BACKGROUND</th>\n",
       "      <th>METHODS</th>\n",
       "      <th>CONCLUSIONS</th>\n",
       "      <th>combined</th>\n",
       "      <th>combined_cleaned</th>\n",
       "      <th>RESULTS</th>\n",
       "      <th>OBJECTIVE</th>\n",
       "      <th>len</th>\n",
       "      <th>contains_kw</th>\n",
       "    </tr>\n",
       "  </thead>\n",
       "  <tbody>\n",
       "    <tr>\n",
       "      <th>8</th>\n",
       "      <td>###8532270</td>\n",
       "      <td>NaN</td>\n",
       "      <td>Forty-six pregnant women with first episodes o...</td>\n",
       "      <td>Suppressive acyclovir therapy reduced the need...</td>\n",
       "      <td>To determine if suppressive acyclovir therapy ...</td>\n",
       "      <td>To determine if suppressive acyclovir therapy ...</td>\n",
       "      <td>None of the 21 patients treated with acyclovir...</td>\n",
       "      <td>To determine if suppressive acyclovir therapy ...</td>\n",
       "      <td>237</td>\n",
       "      <td>1</td>\n",
       "    </tr>\n",
       "    <tr>\n",
       "      <th>14</th>\n",
       "      <td>###12551795</td>\n",
       "      <td>NaN</td>\n",
       "      <td>A randomized trial of three techniques of coni...</td>\n",
       "      <td>There is no major difference in obstetrical ou...</td>\n",
       "      <td>To evaluate the long-term recurrence rates and...</td>\n",
       "      <td>To evaluate the long-term recurrence rates and...</td>\n",
       "      <td>Eighty-six patients were followed-up for more ...</td>\n",
       "      <td>To evaluate the long-term recurrence rates and...</td>\n",
       "      <td>176</td>\n",
       "      <td>1</td>\n",
       "    </tr>\n",
       "    <tr>\n",
       "      <th>25</th>\n",
       "      <td>###18366490</td>\n",
       "      <td>Misoprostol is the drug of choice for medical ...</td>\n",
       "      <td>A randomised comparative trial where 300 women...</td>\n",
       "      <td>Both sublingual and vaginal administrations of...</td>\n",
       "      <td>Misoprostol is the drug of choice for medical ...</td>\n",
       "      <td>Misoprostol is the drug of choice for medical ...</td>\n",
       "      <td>No statistically significant differences in th...</td>\n",
       "      <td>To compare the outcome of sublingual with vagi...</td>\n",
       "      <td>238</td>\n",
       "      <td>1</td>\n",
       "    </tr>\n",
       "    <tr>\n",
       "      <th>92</th>\n",
       "      <td>###20692774</td>\n",
       "      <td>NaN</td>\n",
       "      <td>A prospective randomized trial conducted from ...</td>\n",
       "      <td>Our study allowed to confirm the benefits of a...</td>\n",
       "      <td>To assess the effects of ambulation during the...</td>\n",
       "      <td>To assess the effects of ambulation during the...</td>\n",
       "      <td>Upright position reduces significantly ( for a...</td>\n",
       "      <td>To assess the effects of ambulation during the...</td>\n",
       "      <td>187</td>\n",
       "      <td>1</td>\n",
       "    </tr>\n",
       "    <tr>\n",
       "      <th>122</th>\n",
       "      <td>###1735488</td>\n",
       "      <td>NaN</td>\n",
       "      <td>A randomized , prospective trial .Thirty-one c...</td>\n",
       "      <td>In hMG/hCG cycles , two IUIs timed as describe...</td>\n",
       "      <td>To compare a single periovulatory intrauterine...</td>\n",
       "      <td>To compare a single periovulatory intrauterine...</td>\n",
       "      <td>Clinical pregnancies developed in 2 of 23 cycl...</td>\n",
       "      <td>To compare a single periovulatory intrauterine...</td>\n",
       "      <td>148</td>\n",
       "      <td>1</td>\n",
       "    </tr>\n",
       "    <tr>\n",
       "      <th>...</th>\n",
       "      <td>...</td>\n",
       "      <td>...</td>\n",
       "      <td>...</td>\n",
       "      <td>...</td>\n",
       "      <td>...</td>\n",
       "      <td>...</td>\n",
       "      <td>...</td>\n",
       "      <td>...</td>\n",
       "      <td>...</td>\n",
       "      <td>...</td>\n",
       "    </tr>\n",
       "    <tr>\n",
       "      <th>195286</th>\n",
       "      <td>###24798072</td>\n",
       "      <td>NaN</td>\n",
       "      <td>This is a prospective randomised clinical tria...</td>\n",
       "      <td>For women aged under 38 years with good progno...</td>\n",
       "      <td>To analyze the impact of the eSET followed by ...</td>\n",
       "      <td>To analyze the impact of the eSET followed by ...</td>\n",
       "      <td>In the intention-to-treat analysis , the cumul...</td>\n",
       "      <td>To analyze the impact of the eSET followed by ...</td>\n",
       "      <td>201</td>\n",
       "      <td>1</td>\n",
       "    </tr>\n",
       "    <tr>\n",
       "      <th>195371</th>\n",
       "      <td>###23273888</td>\n",
       "      <td>NaN</td>\n",
       "      <td>In a prospective study carried out at 13 sites...</td>\n",
       "      <td>Rifaximin at 25mg/5 days showed better therape...</td>\n",
       "      <td>To compare efficacy and tolerability between d...</td>\n",
       "      <td>To compare efficacy and tolerability between d...</td>\n",
       "      <td>Among 114 women recruited , 103 were evaluable...</td>\n",
       "      <td>To compare efficacy and tolerability between d...</td>\n",
       "      <td>200</td>\n",
       "      <td>1</td>\n",
       "    </tr>\n",
       "    <tr>\n",
       "      <th>195556</th>\n",
       "      <td>###25411294</td>\n",
       "      <td>Prenatal calcium and iron supplements are reco...</td>\n",
       "      <td>This was a randomized crossover trial in pregn...</td>\n",
       "      <td>A pH-sensitive enteric coating substantially r...</td>\n",
       "      <td>Prenatal calcium and iron supplements are reco...</td>\n",
       "      <td>Prenatal calcium and iron supplements are reco...</td>\n",
       "      <td>Forty-nine participants with FCA for both EC a...</td>\n",
       "      <td>We aimed to establish in vivo evidence that en...</td>\n",
       "      <td>298</td>\n",
       "      <td>1</td>\n",
       "    </tr>\n",
       "    <tr>\n",
       "      <th>195582</th>\n",
       "      <td>###24499812</td>\n",
       "      <td>Netherlands Organisation for Health Research a...</td>\n",
       "      <td>In this open-label , multicentre , internation...</td>\n",
       "      <td>In women with a tubal pregnancy and a healthy ...</td>\n",
       "      <td>Netherlands Organisation for Health Research a...</td>\n",
       "      <td>Netherlands Organisation for Health Research a...</td>\n",
       "      <td>446 women were randomly assigned between Sept ...</td>\n",
       "      <td>NaN</td>\n",
       "      <td>351</td>\n",
       "      <td>1</td>\n",
       "    </tr>\n",
       "    <tr>\n",
       "      <th>195625</th>\n",
       "      <td>###19923636</td>\n",
       "      <td>The delayed-release combination of doxylamine ...</td>\n",
       "      <td>A randomized , cross over , open label design ...</td>\n",
       "      <td>The pharmacokinetic profile of Diclectin well ...</td>\n",
       "      <td>The delayed-release combination of doxylamine ...</td>\n",
       "      <td>The delayed-release combination of doxylamine ...</td>\n",
       "      <td>Diclectin exhibited similar oral bioavailabili...</td>\n",
       "      <td>To compare the pharmacokinetics of Diclectin t...</td>\n",
       "      <td>151</td>\n",
       "      <td>1</td>\n",
       "    </tr>\n",
       "  </tbody>\n",
       "</table>\n",
       "<p>3712 rows × 10 columns</p>\n",
       "</div>"
      ],
      "text/plain": [
       "                 id                                         BACKGROUND  \\\n",
       "8        ###8532270                                                NaN   \n",
       "14      ###12551795                                                NaN   \n",
       "25      ###18366490  Misoprostol is the drug of choice for medical ...   \n",
       "92      ###20692774                                                NaN   \n",
       "122      ###1735488                                                NaN   \n",
       "...             ...                                                ...   \n",
       "195286  ###24798072                                                NaN   \n",
       "195371  ###23273888                                                NaN   \n",
       "195556  ###25411294  Prenatal calcium and iron supplements are reco...   \n",
       "195582  ###24499812  Netherlands Organisation for Health Research a...   \n",
       "195625  ###19923636  The delayed-release combination of doxylamine ...   \n",
       "\n",
       "                                                  METHODS  \\\n",
       "8       Forty-six pregnant women with first episodes o...   \n",
       "14      A randomized trial of three techniques of coni...   \n",
       "25      A randomised comparative trial where 300 women...   \n",
       "92      A prospective randomized trial conducted from ...   \n",
       "122     A randomized , prospective trial .Thirty-one c...   \n",
       "...                                                   ...   \n",
       "195286  This is a prospective randomised clinical tria...   \n",
       "195371  In a prospective study carried out at 13 sites...   \n",
       "195556  This was a randomized crossover trial in pregn...   \n",
       "195582  In this open-label , multicentre , internation...   \n",
       "195625  A randomized , cross over , open label design ...   \n",
       "\n",
       "                                              CONCLUSIONS  \\\n",
       "8       Suppressive acyclovir therapy reduced the need...   \n",
       "14      There is no major difference in obstetrical ou...   \n",
       "25      Both sublingual and vaginal administrations of...   \n",
       "92      Our study allowed to confirm the benefits of a...   \n",
       "122     In hMG/hCG cycles , two IUIs timed as describe...   \n",
       "...                                                   ...   \n",
       "195286  For women aged under 38 years with good progno...   \n",
       "195371  Rifaximin at 25mg/5 days showed better therape...   \n",
       "195556  A pH-sensitive enteric coating substantially r...   \n",
       "195582  In women with a tubal pregnancy and a healthy ...   \n",
       "195625  The pharmacokinetic profile of Diclectin well ...   \n",
       "\n",
       "                                                 combined  \\\n",
       "8       To determine if suppressive acyclovir therapy ...   \n",
       "14      To evaluate the long-term recurrence rates and...   \n",
       "25      Misoprostol is the drug of choice for medical ...   \n",
       "92      To assess the effects of ambulation during the...   \n",
       "122     To compare a single periovulatory intrauterine...   \n",
       "...                                                   ...   \n",
       "195286  To analyze the impact of the eSET followed by ...   \n",
       "195371  To compare efficacy and tolerability between d...   \n",
       "195556  Prenatal calcium and iron supplements are reco...   \n",
       "195582  Netherlands Organisation for Health Research a...   \n",
       "195625  The delayed-release combination of doxylamine ...   \n",
       "\n",
       "                                         combined_cleaned  \\\n",
       "8       To determine if suppressive acyclovir therapy ...   \n",
       "14      To evaluate the long-term recurrence rates and...   \n",
       "25      Misoprostol is the drug of choice for medical ...   \n",
       "92      To assess the effects of ambulation during the...   \n",
       "122     To compare a single periovulatory intrauterine...   \n",
       "...                                                   ...   \n",
       "195286  To analyze the impact of the eSET followed by ...   \n",
       "195371  To compare efficacy and tolerability between d...   \n",
       "195556  Prenatal calcium and iron supplements are reco...   \n",
       "195582  Netherlands Organisation for Health Research a...   \n",
       "195625  The delayed-release combination of doxylamine ...   \n",
       "\n",
       "                                                  RESULTS  \\\n",
       "8       None of the 21 patients treated with acyclovir...   \n",
       "14      Eighty-six patients were followed-up for more ...   \n",
       "25      No statistically significant differences in th...   \n",
       "92      Upright position reduces significantly ( for a...   \n",
       "122     Clinical pregnancies developed in 2 of 23 cycl...   \n",
       "...                                                   ...   \n",
       "195286  In the intention-to-treat analysis , the cumul...   \n",
       "195371  Among 114 women recruited , 103 were evaluable...   \n",
       "195556  Forty-nine participants with FCA for both EC a...   \n",
       "195582  446 women were randomly assigned between Sept ...   \n",
       "195625  Diclectin exhibited similar oral bioavailabili...   \n",
       "\n",
       "                                                OBJECTIVE  len  contains_kw  \n",
       "8       To determine if suppressive acyclovir therapy ...  237            1  \n",
       "14      To evaluate the long-term recurrence rates and...  176            1  \n",
       "25      To compare the outcome of sublingual with vagi...  238            1  \n",
       "92      To assess the effects of ambulation during the...  187            1  \n",
       "122     To compare a single periovulatory intrauterine...  148            1  \n",
       "...                                                   ...  ...          ...  \n",
       "195286  To analyze the impact of the eSET followed by ...  201            1  \n",
       "195371  To compare efficacy and tolerability between d...  200            1  \n",
       "195556  We aimed to establish in vivo evidence that en...  298            1  \n",
       "195582                                                NaN  351            1  \n",
       "195625  To compare the pharmacokinetics of Diclectin t...  151            1  \n",
       "\n",
       "[3712 rows x 10 columns]"
      ]
     },
     "execution_count": 26,
     "metadata": {},
     "output_type": "execute_result"
    }
   ],
   "source": [
    "kw_df"
   ]
  },
  {
   "cell_type": "code",
   "execution_count": 63,
   "id": "44c32153-2814-48f5-b679-c41074f5d8db",
   "metadata": {},
   "outputs": [],
   "source": [
    "from transformers import pipeline\n",
    "\n",
    "summarizer = pipeline(\"summarization\", model=\"facebook/bart-large-cnn\")"
   ]
  },
  {
   "cell_type": "code",
   "execution_count": 66,
   "id": "96b8c869-4eb3-4f6c-a119-48e4f9f44c21",
   "metadata": {},
   "outputs": [
    {
     "name": "stdout",
     "output_type": "stream",
     "text": [
      "[{'summary_text': 'Among patients with quiescent ulcerative colitis, lower fecal concentrations of calprotectin are associated with lower rates of relapse. We performed an open-label , randomized controlled trial to investigate whether increasing doses of mesalamine reduce concentrations of Calprotectin.'}]\n",
      "CPU times: user 11.6 s, sys: 118 ms, total: 11.7 s\n",
      "Wall time: 11.4 s\n"
     ]
    }
   ],
   "source": [
    "%%time\n",
    "print(summarizer(df.combined_cleaned[14998], max_length=130, min_length=50, do_sample=False))"
   ]
  },
  {
   "cell_type": "code",
   "execution_count": 67,
   "id": "5bf36d67-a0a2-4525-8975-d31bdd05d995",
   "metadata": {},
   "outputs": [
    {
     "name": "stdout",
     "output_type": "stream",
     "text": [
      "[{'summary_text': 'Among patients with quiescent ulcerative colitis, lower fecal concentrations of calprotectin are associated with lower rates of relapse. We performed an open-label , randomized controlled trial to investigate whether increasing doses of mesalamine reduce concentrations of fecal cal Protectin. The primary outcome was continued remission with FC < 50 g/g.'}]\n",
      "CPU times: user 14.7 s, sys: 279 ms, total: 14.9 s\n",
      "Wall time: 14.5 s\n"
     ]
    }
   ],
   "source": [
    "%%time\n",
    "print(summarizer(df.combined_cleaned[14998], max_length=130, min_length=50, do_sample=True))"
   ]
  },
  {
   "cell_type": "raw",
   "id": "feed2be3-d61d-4846-89c9-a24ae9f9a73e",
   "metadata": {},
   "source": [
    "for i in range(len(reduced_list[:10])):\n",
    "    info = reduced_list[i]\n",
    "    combined_text = ''\n",
    "    for key in info:\n",
    "        print(key)\n",
    "        if key == 'id':\n",
    "            print(info[key])\n",
    "        #combined_text += info[key]\n",
    "    #print(combined_text)"
   ]
  },
  {
   "cell_type": "code",
   "execution_count": 106,
   "id": "70573c9e-b0fa-4645-910f-fc072775f94e",
   "metadata": {},
   "outputs": [
    {
     "data": {
      "text/plain": [
       "'To test the application in practice of computerized fetal heart rate  analysis in pregnancy .Randomized distribution of subjects with computerized analysis automatically revealed or concealed .A district general hospital and a teaching hospital outside London .2869 pregnant women studied within a year .Quality and duration of the cardiotocogram ; quantitative measurement of FHR variation ; number of stillbirths .With interactive advice to the operator , records were of improved quality  with potentially much reduced recording time .The short-term FHR variation measured in the last records before intervention is reported for the first time .The benefits of using the computers include improvement in record quality and saving of time .In addition , where interpretation depended on estimation of FHR variation there was prima facie evidence of observer misinterpretation ; visual analysis was unreliable .A larger trial is now required with more rigorous constraints on intervention .'"
      ]
     },
     "execution_count": 106,
     "metadata": {},
     "output_type": "execute_result"
    }
   ],
   "source": [
    "kw_df.combined_cleaned.loc[134]"
   ]
  },
  {
   "cell_type": "code",
   "execution_count": 109,
   "id": "d6a5b98c-413e-45f9-8027-67df993839a5",
   "metadata": {},
   "outputs": [
    {
     "name": "stdout",
     "output_type": "stream",
     "text": [
      "[{'summary_text': 'Computerized fetal heart rate analysis in pregnancy.Randomized distribution of subjects with computerized analysis automatically revealed or concealed.2869 pregnant women studied within a year .Quality and duration of the cardiotocogram. quantitative measurement of FHR variation. number of stillbirths.'}]\n",
      "CPU times: user 8.78 s, sys: 80.3 ms, total: 8.86 s\n",
      "Wall time: 8.73 s\n"
     ]
    }
   ],
   "source": [
    "%%time\n",
    "print(summarizer(kw_df.combined_cleaned.loc[134], max_length=130, min_length=50, do_sample=False))"
   ]
  },
  {
   "cell_type": "code",
   "execution_count": null,
   "id": "a2fc8577-127f-477f-a32b-10fb8e1d7738",
   "metadata": {},
   "outputs": [],
   "source": []
  }
 ],
 "metadata": {
  "kernelspec": {
   "display_name": "Python 3",
   "language": "python",
   "name": "python3"
  },
  "language_info": {
   "codemirror_mode": {
    "name": "ipython",
    "version": 3
   },
   "file_extension": ".py",
   "mimetype": "text/x-python",
   "name": "python",
   "nbconvert_exporter": "python",
   "pygments_lexer": "ipython3",
   "version": "3.6.13"
  }
 },
 "nbformat": 4,
 "nbformat_minor": 5
}
